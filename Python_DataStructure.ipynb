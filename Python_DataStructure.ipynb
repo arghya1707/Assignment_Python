{
 "cells": [
  {
   "cell_type": "code",
   "execution_count": 1,
   "id": "d469365d-9bbd-419f-b82c-a0e40487eed6",
   "metadata": {},
   "outputs": [],
   "source": [
    "# Assignment for Python Data Structure"
   ]
  },
  {
   "cell_type": "code",
   "execution_count": 2,
   "id": "7ef2e620-f3a9-460d-bc90-7f9df3b233ab",
   "metadata": {},
   "outputs": [
    {
     "name": "stdin",
     "output_type": "stream",
     "text": [
      "Enter a string :  Arghya\n"
     ]
    },
    {
     "name": "stdout",
     "output_type": "stream",
     "text": [
      "Reversed String :  ayhgrA\n"
     ]
    }
   ],
   "source": [
    "#1. Write a code to reverse a string::\n",
    "\n",
    "sentence = input(\"Enter a string : \")\n",
    "rev_str = sentence[::-1]\n",
    "print(\"Reversed String : \", rev_str)"
   ]
  },
  {
   "cell_type": "code",
   "execution_count": 3,
   "id": "8a753950-c2a6-4870-867f-b6cbed0e3ba7",
   "metadata": {},
   "outputs": [
    {
     "name": "stdin",
     "output_type": "stream",
     "text": [
      "Enter a string :  arghya\n"
     ]
    },
    {
     "name": "stdout",
     "output_type": "stream",
     "text": [
      "Number of vowels =  2\n"
     ]
    }
   ],
   "source": [
    "#2. Write a code to count the number of vowels in a string::\n",
    "\n",
    "string = input(\"Enter a string : \")\n",
    "vowels = \"aeiouAEIOU\"\n",
    "count = 0\n",
    "for char in string:\n",
    "    if char in vowels:\n",
    "        count += 1\n",
    "print(\"Number of vowels = \", count)"
   ]
  },
  {
   "cell_type": "code",
   "execution_count": 4,
   "id": "06e45fa6-64f7-4d42-83aa-d6335f8aa39d",
   "metadata": {},
   "outputs": [
    {
     "name": "stdin",
     "output_type": "stream",
     "text": [
      "Enter a string :  eye\n"
     ]
    },
    {
     "name": "stdout",
     "output_type": "stream",
     "text": [
      "The string is a palindrome.\n"
     ]
    }
   ],
   "source": [
    "#3. Write a code to check if  a given string is a palindrome or not::\n",
    "\n",
    "def is_palindrome(input_string):\n",
    "    input_string = input_string.replace(\" \", \"\").lower()\n",
    "    return input_string == input_string[::-1]\n",
    "\n",
    "string = input(\"Enter a string : \")\n",
    "result = is_palindrome(string)\n",
    "if result:\n",
    "    print(\"The string is a palindrome.\")\n",
    "else:\n",
    "    print(\"The string is not a palindrome.\")"
   ]
  },
  {
   "cell_type": "code",
   "execution_count": 5,
   "id": "6fd12e83-4a50-4ce5-bde6-84afb8af716d",
   "metadata": {},
   "outputs": [
    {
     "name": "stdin",
     "output_type": "stream",
     "text": [
      "Enter string 1 :  cat\n",
      "Enter string 2 :  act\n"
     ]
    },
    {
     "name": "stdout",
     "output_type": "stream",
     "text": [
      "cat and act are anagrams.\n"
     ]
    }
   ],
   "source": [
    "#4. write a code to check if two given strings are anagrams of each other::\n",
    "\n",
    "def check_anagrams(str1, str2):\n",
    "    str1 = str1.replace(\" \", \"\").lower()\n",
    "    str2 = str2.replace(\" \", \"\").lower()\n",
    "\n",
    "    if len(str1) != len(str2):\n",
    "        return False\n",
    "\n",
    "    char_count = {}\n",
    "    for char in str1:\n",
    "        if char in char_count:\n",
    "            char_count[char] += 1\n",
    "        else:\n",
    "            char_count[char] = 1\n",
    "\n",
    "    for char in str2:\n",
    "        if char in char_count:\n",
    "            char_count[char] -= 1\n",
    "        else:\n",
    "            return False\n",
    "\n",
    "    for count in char_count.values():\n",
    "        if count != 0:\n",
    "            return False\n",
    "\n",
    "    return True\n",
    "\n",
    "\n",
    "string1 = input(\"Enter string 1 : \")\n",
    "string2 = input(\"Enter string 2 : \")\n",
    "if check_anagrams(string1, string2):\n",
    "    print(f\"{string1} and {string2} are anagrams.\")\n",
    "else:\n",
    "    print(f\"{string1} and {string2} are not anagrams.\")\n",
    "     "
   ]
  },
  {
   "cell_type": "code",
   "execution_count": 7,
   "id": "0d71fee0-cad2-46d7-b7f0-d82094af3f09",
   "metadata": {},
   "outputs": [
    {
     "name": "stdin",
     "output_type": "stream",
     "text": [
      "Enter the main string :  my name is arghya\n",
      "Enter the sub-string :  a\n"
     ]
    },
    {
     "name": "stdout",
     "output_type": "stream",
     "text": [
      "Occurrences of 'a' in 'my name is arghya':\n",
      "[4, 11, 16]\n"
     ]
    }
   ],
   "source": [
    "#5. write a code to find all occurrences of a given substring within another string::\n",
    "\n",
    "def find_occurrences(main_string, sub_string):\n",
    "    occurrences = []\n",
    "    start_index = 0\n",
    "\n",
    "    while True:\n",
    "        index = main_string.find(sub_string, start_index)\n",
    "        if index == -1:\n",
    "            break\n",
    "        occurrences.append(index)\n",
    "        start_index = index + 1\n",
    "\n",
    "    return occurrences\n",
    "\n",
    "\n",
    "main_string = input(\"Enter the main string : \")\n",
    "sub_string = input(\"Enter the sub-string : \")\n",
    "result = find_occurrences(main_string, sub_string)\n",
    "print(\"Occurrences of '{}' in '{}':\".format(sub_string, main_string))\n",
    "print(result)"
   ]
  },
  {
   "cell_type": "code",
   "execution_count": 10,
   "id": "33129081-405e-40a5-af13-866c3ff318d0",
   "metadata": {},
   "outputs": [
    {
     "name": "stdin",
     "output_type": "stream",
     "text": [
      "Enter a string :  aaabbbcc\n"
     ]
    },
    {
     "name": "stdout",
     "output_type": "stream",
     "text": [
      "Compressed string: a3b3c2\n"
     ]
    }
   ],
   "source": [
    "#6 Write a code to perform basic string compression using the counts of repeated characters::\n",
    "\n",
    "def compress_string(input_string):\n",
    "    compressed_string = \"\"\n",
    "    count = 1\n",
    "    for i in range(len(input_string)):\n",
    "        if i + 1 < len(input_string) and input_string[i] == input_string[i + 1]:\n",
    "            count += 1\n",
    "        else:\n",
    "            compressed_string += input_string[i] + str(count)\n",
    "            count = 1\n",
    "    if len(compressed_string) >= len(input_string):\n",
    "        return input_string\n",
    "    else:\n",
    "        return compressed_string\n",
    "\n",
    "\n",
    "input_string = input(\"Enter a string : \")\n",
    "compressed_result = compress_string(input_string)\n",
    "print(\"Compressed string:\", compressed_result)"
   ]
  },
  {
   "cell_type": "code",
   "execution_count": 11,
   "id": "1c6207ab-f47d-43e3-b32a-d784bffb633c",
   "metadata": {},
   "outputs": [
    {
     "name": "stdin",
     "output_type": "stream",
     "text": [
      "Enter string 1 :  arghya\n"
     ]
    },
    {
     "name": "stdout",
     "output_type": "stream",
     "text": [
      "String 'arghya' has all unique characters: False\n"
     ]
    }
   ],
   "source": [
    "#7. Write a code to determine if a string has all unique characters\n",
    "\n",
    "def has_unique_characters(input_string):\n",
    "    encountered = set()\n",
    "\n",
    "    for char in input_string:\n",
    "        if char in encountered:\n",
    "            return False\n",
    "        else:\n",
    "            encountered.add(char)\n",
    "    return True\n",
    "\n",
    "\n",
    "string1 = input(\"Enter string 1 : \")\n",
    "\n",
    "print(\"String '{}' has all unique characters: {}\".format(string1, has_unique_characters(string1)))"
   ]
  },
  {
   "cell_type": "code",
   "execution_count": 12,
   "id": "9bc78859-f00f-41aa-bea9-63b0a52c12d3",
   "metadata": {},
   "outputs": [
    {
     "name": "stdin",
     "output_type": "stream",
     "text": [
      "Enter a string :  Arghya\n"
     ]
    },
    {
     "name": "stdout",
     "output_type": "stream",
     "text": [
      "\n",
      "Uppercase string: ARGHYA\n",
      "Lowercase string: arghya\n"
     ]
    }
   ],
   "source": [
    "#8 Write a code to convert a  given string to uppercase or lowercase::\n",
    "\n",
    "input_string = input(\"Enter a string : \")\n",
    "upper_string = input_string.upper()\n",
    "lower_string = input_string.lower()\n",
    "print()\n",
    "print(\"Uppercase string:\", upper_string)\n",
    "print(\"Lowercase string:\", lower_string)"
   ]
  },
  {
   "cell_type": "code",
   "execution_count": 13,
   "id": "0627c811-4f5c-4853-82f0-48069c80851a",
   "metadata": {},
   "outputs": [
    {
     "name": "stdin",
     "output_type": "stream",
     "text": [
      "Enter a string :  My name is Arghya\n"
     ]
    },
    {
     "name": "stdout",
     "output_type": "stream",
     "text": [
      "Number of words in the string: 4\n"
     ]
    }
   ],
   "source": [
    "#9. write a code to count the number of words in a string::\n",
    "\n",
    "def count_words(input_string):\n",
    "    words = input_string.split()\n",
    "    return len(words)\n",
    "\n",
    "\n",
    "input_string = input(\"Enter a string : \")\n",
    "num_words = count_words(input_string)\n",
    "print(\"Number of words in the string:\", num_words)\n"
   ]
  },
  {
   "cell_type": "code",
   "execution_count": 14,
   "id": "c8b8094a-7f77-4782-aeba-37bc0426a383",
   "metadata": {},
   "outputs": [
    {
     "name": "stdin",
     "output_type": "stream",
     "text": [
      "Enter a string :  Arghya\n",
      "Enter an another string :  Parui\n"
     ]
    },
    {
     "name": "stdout",
     "output_type": "stream",
     "text": [
      "Concatenated string: Arghya Parui\n"
     ]
    }
   ],
   "source": [
    "#10. write a code to concatenate two strings without using the + operator::\n",
    "def concatenate_strings(str1, str2):\n",
    "    return \"{} {}\".format(str1, str2)\n",
    "\n",
    "\n",
    "string1 = input(\"Enter a string : \")\n",
    "string2 = input(\"Enter an another string : \")\n",
    "result = concatenate_strings(string1, string2)\n",
    "print(\"Concatenated string:\", result)"
   ]
  },
  {
   "cell_type": "code",
   "execution_count": 15,
   "id": "c544ba68-ab1a-4a76-a688-0dc1a27e9df1",
   "metadata": {},
   "outputs": [
    {
     "name": "stdin",
     "output_type": "stream",
     "text": [
      "Enter element of the list separated by space:  5 8 5 9 6 7 5 8 6  5\n",
      "Enter the element to remove :  5 \n"
     ]
    },
    {
     "name": "stdout",
     "output_type": "stream",
     "text": [
      "List after removing all occurrences of 5: [8, 9, 6, 7, 8, 6]\n"
     ]
    }
   ],
   "source": [
    "#11. Write a code to remove all occurrences of a specific element from a list::\n",
    "\n",
    "element = input(\"Enter element of the list separated by space: \").split()\n",
    "element = [int(elem) for elem in element]\n",
    "\n",
    "element_to_remove = int(input(\"Enter the element to remove : \"))\n",
    "\n",
    "remove_element = [item for item in element if item != element_to_remove]\n",
    "\n",
    "if element_to_remove:\n",
    "    print(\"List after removing all occurrences of {}: {}\".format(element_to_remove, remove_element))\n",
    "else:\n",
    "    print(\"Element {} not found in the list.\".format(element_to_remove))"
   ]
  },
  {
   "cell_type": "code",
   "execution_count": 16,
   "id": "f80895b7-07b8-41ed-88e8-2d1b49efdf41",
   "metadata": {},
   "outputs": [
    {
     "name": "stdin",
     "output_type": "stream",
     "text": [
      "Enter element of the list separated by space:  5 8 7 9 4 2 5 8 \n"
     ]
    },
    {
     "name": "stdout",
     "output_type": "stream",
     "text": [
      "Second largest number:  8\n"
     ]
    }
   ],
   "source": [
    "#12. Implement a code to find the second largest number in a given list of integers::\n",
    "\n",
    "def find_second_largest(lst):\n",
    "    sorted_list = sorted(lst, reverse=True)\n",
    "\n",
    "    if len(sorted_list) < 2:\n",
    "        return None\n",
    "\n",
    "    return sorted_list[1]\n",
    "\n",
    "input_list = input(\"Enter element of the list separated by space: \").split()\n",
    "# convert input elements to integers\n",
    "input_list = [int(inp) for inp in input_list]\n",
    "second_largest = find_second_largest(input_list)\n",
    "if second_largest is not None:\n",
    "    print(\"Second largest number: \", second_largest)\n",
    "else:\n",
    "    print(\"The list does not have a second largest number.\")\n",
    "     "
   ]
  },
  {
   "cell_type": "code",
   "execution_count": 17,
   "id": "e4f2ec92-ade9-41f1-9140-dc022897b1a2",
   "metadata": {},
   "outputs": [
    {
     "name": "stdout",
     "output_type": "stream",
     "text": [
      "Occurrences of each element:  {1: 1, 2: 3, 3: 3, 4: 4}\n"
     ]
    }
   ],
   "source": [
    "#13. Create a code to count the occurrences of each element in a list and return a dictionary with elements as keys and their counts as values::\n",
    "\n",
    "my_list = [1, 2, 2, 2, 3, 3, 3, 4, 4, 4, 4]\n",
    "count = {}\n",
    "\n",
    "for item in my_list:\n",
    "    count[item] = count.get(item, 0) +1\n",
    "\n",
    "print(\"Occurrences of each element: \", count)\n",
    "     "
   ]
  },
  {
   "cell_type": "code",
   "execution_count": 18,
   "id": "12258a6d-91af-4a93-bc2d-509b2c086808",
   "metadata": {},
   "outputs": [
    {
     "name": "stdout",
     "output_type": "stream",
     "text": [
      "Original List:  [1, 2, 3, 4, 5]\n",
      "Reversed list:  [5, 4, 3, 2, 1]\n"
     ]
    }
   ],
   "source": [
    "#14. Write a code to reverse a list in-place without using any built-in reverse functions.\n",
    "\n",
    "lis = [1, 2, 3, 4, 5]\n",
    "print(\"Original List: \", lis)\n",
    "\n",
    "n = len(lis)\n",
    "\n",
    "for i in range(n // 2):\n",
    "    lis[i], lis[n - i - 1] = lis[n - i - 1], lis[i]\n",
    "\n",
    "print(\"Reversed list: \", lis)"
   ]
  },
  {
   "cell_type": "code",
   "execution_count": 19,
   "id": "3160b3f8-7530-403f-af57-d1009f9c1797",
   "metadata": {},
   "outputs": [
    {
     "name": "stdout",
     "output_type": "stream",
     "text": [
      "List after removing duplicates:  [1, 2, 3, 7, 5, 6]\n"
     ]
    }
   ],
   "source": [
    "#15. Implement a code to find and remove duplicates from a list while preserving the original order of elements.\n",
    "\n",
    "my_list = [1, 2, 2, 3, 3, 7,5,5, 6]\n",
    "\n",
    "seen = set()\n",
    "unique_list = []\n",
    "\n",
    "for item in my_list:\n",
    "    if item not in seen:\n",
    "        seen.add(item)\n",
    "        unique_list.append(item)\n",
    "\n",
    "print(\"List after removing duplicates: \", unique_list)"
   ]
  },
  {
   "cell_type": "code",
   "execution_count": 24,
   "id": "13500127-729e-45ba-a60d-f18b15073bc1",
   "metadata": {},
   "outputs": [
    {
     "name": "stdout",
     "output_type": "stream",
     "text": [
      "Descending\n"
     ]
    }
   ],
   "source": [
    "#16. Create a code to check if a given list is sorted (either in ascending or descending order) or not.\n",
    "\n",
    "\n",
    "my_list = [9,8,6,5,3,1]\n",
    "\n",
    "if all(my_list[i] <= my_list[i + 1] for i in range(len(my_list) - 1)):\n",
    "        print(\"Ascending\")\n",
    "\n",
    "if all(my_list[i] >= my_list[i + 1] for i in range(len(my_list) - 1)):\n",
    "    print(\"Descending\")"
   ]
  },
  {
   "cell_type": "code",
   "execution_count": 26,
   "id": "360fee3d-460c-4469-a10a-895e38c2cb88",
   "metadata": {},
   "outputs": [
    {
     "name": "stdout",
     "output_type": "stream",
     "text": [
      "[1, 2, 3, 4, 7, 5, 8, 9, 6, 10, 12, 11]\n"
     ]
    }
   ],
   "source": [
    "#17. Write a code to merge two sorted list into a single sorted list.\n",
    "\n",
    "list1 = [1,4,8,9,6,12,11]\n",
    "list2 = [2,3,7,5,10]\n",
    "\n",
    "merged_list = []\n",
    "\n",
    "i = j = 0\n",
    "\n",
    "while i < len(list1) and j < len(list2):\n",
    "    if list1[i] < list2[j]:\n",
    "        merged_list.append(list1[i])\n",
    "        i += 1\n",
    "    else:\n",
    "        merged_list.append(list2[j])\n",
    "        j += 1\n",
    "\n",
    "while i < len(list1):\n",
    "    merged_list.append(list1[i])\n",
    "    i += 1\n",
    "\n",
    "while j < len(list2):\n",
    "    merged_list.append(list2[j])\n",
    "    j += 1\n",
    "\n",
    "print(merged_list)"
   ]
  },
  {
   "cell_type": "code",
   "execution_count": 27,
   "id": "753af6e4-6ba7-4cb3-a324-13f7a019371e",
   "metadata": {},
   "outputs": [
    {
     "name": "stdout",
     "output_type": "stream",
     "text": [
      "[3, 5, 6, 7, 9]\n"
     ]
    }
   ],
   "source": [
    "#18. Implement a code to find the intersection of two given list.\n",
    "\n",
    "l1 = [5,8,9,6,7,4,3]\n",
    "l2 = [1,2,5,6,9,7,3]\n",
    "\n",
    "set1 = set(l1)\n",
    "set2 = set(l2)\n",
    "\n",
    "intersection_set = set1.intersection(set2)\n",
    "\n",
    "intersection_list = list(intersection_set)\n",
    "\n",
    "print(intersection_list)"
   ]
  },
  {
   "cell_type": "code",
   "execution_count": 28,
   "id": "3ad80010-953e-4c61-a796-c055494ce6ed",
   "metadata": {},
   "outputs": [
    {
     "name": "stdout",
     "output_type": "stream",
     "text": [
      "[1, 2, 3, 4, 5, 6, 7, 8, 9, 11]\n"
     ]
    }
   ],
   "source": [
    "#19, Create a code to find the union of two lists without duplicates.\n",
    "\n",
    "list1 = [1,5,9,3,7,4]\n",
    "list2 = [4,6,11,2,5,8]\n",
    "\n",
    "union_result = list1 + list2\n",
    "\n",
    "my_set = set(union_result)\n",
    "my_list = list(my_set)\n",
    "\n",
    "print(my_list)\n",
    "     "
   ]
  },
  {
   "cell_type": "code",
   "execution_count": 29,
   "id": "9d93db3b-8983-4ad2-bb5a-661d110f9051",
   "metadata": {},
   "outputs": [
    {
     "name": "stdout",
     "output_type": "stream",
     "text": [
      "(8, 1, 5, 9)\n"
     ]
    }
   ],
   "source": [
    "#21. Write a code that takes two tuples as input and returns a new tuple containing elements that are common to both input tuples.\n",
    "\n",
    "tuple1 = (1,2,5,9,8)\n",
    "tuple2 = (4,5,6,8,9,1)\n",
    "\n",
    "set1 = set(tuple1)\n",
    "set2 = set(tuple2)\n",
    "\n",
    "common_element = set1 & set2\n",
    "common_tuple = tuple(common_element)\n",
    "\n",
    "print(common_tuple)"
   ]
  },
  {
   "cell_type": "code",
   "execution_count": 30,
   "id": "c9fcf5e7-672d-466a-806b-5e97dbd7bcbd",
   "metadata": {},
   "outputs": [
    {
     "name": "stdin",
     "output_type": "stream",
     "text": [
      "enter the no of elements : 4\n",
      "enter the element 1\n",
      "enter the element 2\n",
      "enter the element 4\n",
      "enter the element 8\n",
      "enter the no of elements : 4\n",
      "enter the element 1\n",
      "enter the element 2\n",
      "enter the element 5\n",
      "enter the element 6\n"
     ]
    },
    {
     "name": "stdout",
     "output_type": "stream",
     "text": [
      "{8, 1, 2, 4}\n",
      "{1, 2, 5, 6}\n",
      "{1, 2}\n"
     ]
    }
   ],
   "source": [
    "#22. Create a code that prompts the user to enter two sets of integers separated by commas. Then, print the intersection of these two sets::\n",
    "lis_1 = []\n",
    "lis_2 = []\n",
    "\n",
    "l_1 = int(input(\"enter the no of elements :\"))\n",
    "for i in range(l_1):\n",
    "        lis_1.append(int(input(\"enter the element\")))\n",
    "\n",
    "l_2 = int(input(\"enter the no of elements :\"))\n",
    "for j in range(l_2):\n",
    "        lis_2.append(int(input(\"enter the element\")))\n",
    "        \n",
    "set_1 = set(lis_1)\n",
    "set_2 = set(lis_2)\n",
    "\n",
    "set_3 = set_1 & set_2 # intersection of two sets\n",
    "\n",
    "print(set_1)\n",
    "print(set_2)\n",
    "\n",
    "print(set_3)"
   ]
  },
  {
   "cell_type": "code",
   "execution_count": 32,
   "id": "623e522c-d933-47b5-9d75-108ec536c738",
   "metadata": {},
   "outputs": [
    {
     "name": "stdin",
     "output_type": "stream",
     "text": [
      "enter the no of elements : 3\n",
      "enter the element 1\n",
      "enter the element 2\n",
      "enter the element 3\n",
      "enter the no of elements : 3\n",
      "enter the element 4\n",
      "enter the element 5\n",
      "enter the element 6\n"
     ]
    },
    {
     "name": "stdout",
     "output_type": "stream",
     "text": [
      "(1, 2, 3)\n",
      "(4, 5, 6)\n",
      "(1, 2, 3, 4, 5, 6)\n"
     ]
    }
   ],
   "source": [
    "#23. Write a code to concatenate two tuples. The function should take two tuples as input and return a new tuple containing elements from both input tuples::\n",
    "lis_1 = []\n",
    "lis_2 = []\n",
    "\n",
    "l_1 = int(input(\"enter the no of elements :\"))\n",
    "for i in range(l_1):\n",
    "        lis_1.append(int(input(\"enter the element\")))\n",
    "\n",
    "l_2 = int(input(\"enter the no of elements :\"))\n",
    "for j in range(l_2):\n",
    "        lis_2.append(int(input(\"enter the element\")))\n",
    "        \n",
    "tup_1 = tuple(lis_1)\n",
    "tup_2 = tuple(lis_2)\n",
    "\n",
    "print(tup_1)\n",
    "print(tup_2)\n",
    "\n",
    "tup_3 = tup_1 + tup_2 # concatenate\n",
    "\n",
    "print(tup_3)"
   ]
  },
  {
   "cell_type": "code",
   "execution_count": 33,
   "id": "23f67c3d-a391-4e10-b4c2-bece12fe5878",
   "metadata": {},
   "outputs": [
    {
     "name": "stdin",
     "output_type": "stream",
     "text": [
      "enter the no of elements : 4\n",
      "enter the element as string: 1\n",
      "enter the element as string: 2\n",
      "enter the element as string: 3\n",
      "enter the element as string: 4\n"
     ]
    },
    {
     "name": "stdout",
     "output_type": "stream",
     "text": [
      "{'4', '2', '1', '3'}\n"
     ]
    },
    {
     "name": "stdin",
     "output_type": "stream",
     "text": [
      "enter the no of elements : 4\n",
      "enter the element as string: 1\n",
      "enter the element as string: 5\n",
      "enter the element as string: 2\n",
      "enter the element as string: 4\n"
     ]
    },
    {
     "name": "stdout",
     "output_type": "stream",
     "text": [
      "{'4', '2', '5', '1'}\n",
      "{'3'}\n"
     ]
    }
   ],
   "source": [
    "#24. Develop a code that prompts the user to input two sets of strings. Then, print the elements that are present in the first set but not in the second set::\n",
    "lis_1 = []\n",
    "lis_2 = []\n",
    "\n",
    "l_1 = (int(input(\"enter the no of elements :\")))\n",
    "for i in range(l_1):\n",
    "    lis_1.append(input(\"enter the element as string:\"))\n",
    "set_1 = set(lis_1)\n",
    "print(set_1)\n",
    "\n",
    "l_2 = (int(input(\"enter the no of elements :\")))\n",
    "for j in range(l_2):\n",
    "    lis_2.append(input(\"enter the element as string:\"))\n",
    "set_2 = set(lis_2)\n",
    "print(set_2)\n",
    "\n",
    "set_3 = set_1 - set_2 # difference of two sets\n",
    "\n",
    "print(set_3)\n"
   ]
  },
  {
   "cell_type": "code",
   "execution_count": 36,
   "id": "3134bae5-72fc-45b2-890c-0490faf8e3ef",
   "metadata": {},
   "outputs": [
    {
     "name": "stdin",
     "output_type": "stream",
     "text": [
      "enter the no.of elements: 9\n",
      "enter the element: 1\n",
      "enter the element: 4\n",
      "enter the element: 78\n",
      "enter the element: 45\n",
      "enter the element: 12\n",
      "enter the element: 46\n",
      "enter the element: 4\n",
      "enter the element: 4\n",
      "enter the element: 3\n"
     ]
    },
    {
     "name": "stdout",
     "output_type": "stream",
     "text": [
      "(1, 4, 78, 45, 12, 46, 4, 4, 3)\n"
     ]
    },
    {
     "name": "stdin",
     "output_type": "stream",
     "text": [
      "enter the first number: 2\n",
      "enter the second number: 7\n"
     ]
    },
    {
     "name": "stdout",
     "output_type": "stream",
     "text": [
      "(78, 45, 12, 46, 4)\n"
     ]
    }
   ],
   "source": [
    "#25. Create a code that takes a tuple and two integers as input. The function should return a new tuple containing elements from the original tuple within the specified range of indices::\n",
    "lis_0 = []\n",
    "l_0 = int(input(\"enter the no.of elements:\"))\n",
    "\n",
    "for i in range(l_0):\n",
    "    lis_0.append(int(input(\"enter the element:\")))\n",
    "    \n",
    "tup_0 = tuple(lis_0)\n",
    "print(tup_0)\n",
    "\n",
    "n_1 = int(input(\"enter the first number:\"))\n",
    "n_2 = int(input(\"enter the second number:\"))\n",
    "\n",
    "tup_1 = tup_0[n_1:n_2]\n",
    "print(tup_1)"
   ]
  },
  {
   "cell_type": "code",
   "execution_count": 37,
   "id": "aafa30d3-92c8-458f-b96d-fef73ea7f1cd",
   "metadata": {},
   "outputs": [
    {
     "name": "stdin",
     "output_type": "stream",
     "text": [
      "enter the no of elements : 4\n",
      "enter the element as string: 1\n",
      "enter the element as string: 5\n",
      "enter the element as string: 9\n",
      "enter the element as string: 8\n"
     ]
    },
    {
     "name": "stdout",
     "output_type": "stream",
     "text": [
      "{'9', '5', '1', '8'}\n"
     ]
    },
    {
     "name": "stdin",
     "output_type": "stream",
     "text": [
      "enter the no of elements : 4\n",
      "enter the element as string: 1\n",
      "enter the element as string: 4\n",
      "enter the element as string: 7\n",
      "enter the element as string: 8\n"
     ]
    },
    {
     "name": "stdout",
     "output_type": "stream",
     "text": [
      "{'4', '1', '7', '8'}\n",
      "{'9', '4', '8', '5', '1', '7'}\n"
     ]
    }
   ],
   "source": [
    "#26. Write a code that prompts the user to input two sets of characters. Then, print the union of these two sets::\n",
    "lis_1 = []\n",
    "lis_2 = []\n",
    "\n",
    "l_1 = (int(input(\"enter the no of elements :\")))\n",
    "for i in range(l_1):\n",
    "    lis_1.append(input(\"enter the element as string:\"))\n",
    "set_1 = set(lis_1)\n",
    "print(set_1)\n",
    "\n",
    "l_2 = (int(input(\"enter the no of elements :\")))\n",
    "for j in range(l_2):\n",
    "    lis_2.append(input(\"enter the element as string:\"))\n",
    "set_2 = set(lis_2)\n",
    "print(set_2)\n",
    "\n",
    "\n",
    "set_3 = set_1 | set_2 # union of two sets\n",
    "\n",
    "\n",
    "print(set_3)"
   ]
  },
  {
   "cell_type": "code",
   "execution_count": 39,
   "id": "0eda320f-54e7-4d20-917d-85333259cfd7",
   "metadata": {},
   "outputs": [
    {
     "name": "stdout",
     "output_type": "stream",
     "text": [
      "Maximum value: 87\n",
      "Minimum value: 1\n"
     ]
    }
   ],
   "source": [
    "#27. Develop a code that takes a tuple of integers as input. The function should return the maximum and minimum values from the tuple using tuple unpacking.\n",
    "\n",
    "input_tuple = (7,5,87,1,6,4,3,45)\n",
    "\n",
    "max_value = max(input_tuple)\n",
    "min_value = min(input_tuple)\n",
    "\n",
    "print(\"Maximum value:\", max_value)\n",
    "print(\"Minimum value:\", min_value)\n",
    "     "
   ]
  },
  {
   "cell_type": "code",
   "execution_count": 40,
   "id": "18ece922-1fe3-4bb0-80df-46d9a6ac4094",
   "metadata": {},
   "outputs": [
    {
     "name": "stdin",
     "output_type": "stream",
     "text": [
      "enter the no of elements : 4\n",
      "enter the element as string: 1\n",
      "enter the element as string: 2\n",
      "enter the element as string: 5\n",
      "enter the element as string: 8\n"
     ]
    },
    {
     "name": "stdout",
     "output_type": "stream",
     "text": [
      "{8, 1, 2, 5}\n"
     ]
    },
    {
     "name": "stdin",
     "output_type": "stream",
     "text": [
      "enter the no of elements : 4\n",
      "enter the element as string: 1\n",
      "enter the element as string: 4\n",
      "enter the element as string: 8\n",
      "enter the element as string: 6\n"
     ]
    },
    {
     "name": "stdout",
     "output_type": "stream",
     "text": [
      "{8, 1, 4, 6}\n",
      "{1, 2, 4, 5, 6, 8}\n",
      "{8, 1}\n",
      "{2, 5}\n"
     ]
    }
   ],
   "source": [
    "#28. Create a code that defines two sets of integers. Then, print the union, intersection, and difference of these two sets.\n",
    "lis_1 = []\n",
    "lis_2 = []\n",
    "\n",
    "l_1 = (int(input(\"enter the no of elements :\")))\n",
    "for i in range(l_1):\n",
    "    lis_1.append(int(input(\"enter the element as string:\")))\n",
    "set_1 = set(lis_1)\n",
    "print(set_1)\n",
    "\n",
    "l_2 = (int(input(\"enter the no of elements :\")))\n",
    "for j in range(l_2):\n",
    "    lis_2.append(int(input(\"enter the element as string:\")))\n",
    "set_2 = set(lis_2)\n",
    "print(set_2)\n",
    "\n",
    "set_union = set_1 | set_2 # union of two sets\n",
    "set_intersection = set_1 & set_2 # intersection of two sets\n",
    "set_difference = set_1 - set_2 # difference of two sets \n",
    "\n",
    "print(set_union)\n",
    "print(set_intersection)\n",
    "print(set_difference)"
   ]
  },
  {
   "cell_type": "code",
   "execution_count": 41,
   "id": "918bd59e-b66f-49d3-869a-2053d1b50451",
   "metadata": {},
   "outputs": [
    {
     "name": "stdin",
     "output_type": "stream",
     "text": [
      "enter the no.of elements: 8\n",
      "enter the element: 1\n",
      "enter the element: 47\n",
      "enter the element: 8\n",
      "enter the element: 9\n",
      "enter the element: 1\n",
      "enter the element: 5\n",
      "enter the element: 1\n",
      "enter the element: 2\n"
     ]
    },
    {
     "name": "stdout",
     "output_type": "stream",
     "text": [
      "(1, 47, 8, 9, 1, 5, 1, 2)\n"
     ]
    },
    {
     "name": "stdin",
     "output_type": "stream",
     "text": [
      "enetr the element to count: 1\n"
     ]
    },
    {
     "name": "stdout",
     "output_type": "stream",
     "text": [
      "number of occurrence of 1 in the tuple is 3 times\n"
     ]
    }
   ],
   "source": [
    "#29. Write a code that takes a tuple and an element as input. The function should return the count of occurrences of the given element in the tuple::\n",
    "lis_0 = []\n",
    "l_0 = int(input(\"enter the no.of elements:\"))\n",
    "\n",
    "for i in range(l_0):\n",
    "    lis_0.append(int(input(\"enter the element:\")))\n",
    "    \n",
    "tup_0 = tuple(lis_0)\n",
    "print(tup_0)\n",
    "\n",
    "n_0 = int(input(\"enetr the element to count:\"))\n",
    "count_0 = tup_0.count(n_0)\n",
    "print(\"number of occurrence of\",n_0,\"in the tuple is\",count_0,\"times\")"
   ]
  },
  {
   "cell_type": "code",
   "execution_count": 42,
   "id": "fe47c408-bda7-40c0-a7c3-795efa380618",
   "metadata": {},
   "outputs": [
    {
     "name": "stdin",
     "output_type": "stream",
     "text": [
      "enter the no of elements : 4\n",
      "enter the element as string: 1\n",
      "enter the element as string: 2\n",
      "enter the element as string: 4\n",
      "enter the element as string: 6\n"
     ]
    },
    {
     "name": "stdout",
     "output_type": "stream",
     "text": [
      "{'4', '2', '6', '1'}\n"
     ]
    },
    {
     "name": "stdin",
     "output_type": "stream",
     "text": [
      "enter the no of elements : 4\n",
      "enter the element as string: 1\n",
      "enter the element as string: 7\n",
      "enter the element as string: 6\n",
      "enter the element as string: 8\n"
     ]
    },
    {
     "name": "stdout",
     "output_type": "stream",
     "text": [
      "{'7', '6', '1', '8'}\n",
      "{'4', '8', '7', '2'}\n"
     ]
    }
   ],
   "source": [
    "#30. Develop a code that prompts the user to input two sets of strings. Then, print the symmetric difference of these two sets::\n",
    "lis_1 = []\n",
    "lis_2 = []\n",
    "\n",
    "l_1 = (int(input(\"enter the no of elements :\")))\n",
    "for i in range(l_1):\n",
    "    lis_1.append(input(\"enter the element as string:\"))\n",
    "set_1 = set(lis_1)\n",
    "print(set_1)\n",
    "\n",
    "l_2 = (int(input(\"enter the no of elements :\")))\n",
    "for j in range(l_2):\n",
    "    lis_2.append(input(\"enter the element as string:\"))\n",
    "set_2 = set(lis_2)\n",
    "print(set_2)\n",
    "\n",
    "set_3 = set_1 ^ set_2 #  symmetric difference of two sets\n",
    "\n",
    "print(set_3)"
   ]
  },
  {
   "cell_type": "code",
   "execution_count": 43,
   "id": "701f849f-1272-44c4-951c-4ac60820bf05",
   "metadata": {},
   "outputs": [
    {
     "name": "stdout",
     "output_type": "stream",
     "text": [
      "Word frequency dictionary: {'apple': 3, 'banana': 2, 'orange': 1}\n"
     ]
    }
   ],
   "source": [
    "#31. Write a code that takes a list of words as input and returns a dictionary where the keys are unique words and the values are the frequencies of those words in the input list.\n",
    "\n",
    "input_list = [\"apple\", \"banana\", \"apple\", \"orange\", \"banana\", \"apple\"]\n",
    "freq_dict = {}\n",
    "\n",
    "for word in input_list:\n",
    "    if word in freq_dict:\n",
    "        freq_dict[word] += 1\n",
    "    else:\n",
    "        freq_dict[word] = 1\n",
    "\n",
    "print(\"Word frequency dictionary:\", freq_dict)"
   ]
  },
  {
   "cell_type": "code",
   "execution_count": 44,
   "id": "3bd88a97-f22c-4458-b7e0-0afb8731afd1",
   "metadata": {},
   "outputs": [
    {
     "name": "stdout",
     "output_type": "stream",
     "text": [
      "Merged dictionary: {'apple': 3, 'banana': 3, 'orange': 1, 'pineapple': 2, 'grape': 1}\n"
     ]
    }
   ],
   "source": [
    "#32. Write a code that takes two dictionaries as input and merges them into a single dictionary. If there are common keys, the values should be added together.\n",
    "\n",
    "dict1 = {'apple': 3, 'banana': 2, 'orange': 1}\n",
    "dict2 = {'banana': 1, 'pineapple': 2, 'grape': 1}\n",
    "\n",
    "merged_dict = {}\n",
    "\n",
    "for key, value in dict1.items():\n",
    "    merged_dict[key] = value\n",
    "\n",
    "for key, value in dict2.items():\n",
    "    if key in merged_dict:\n",
    "        merged_dict[key] += value\n",
    "    else:\n",
    "        merged_dict[key] = value\n",
    "\n",
    "print(\"Merged dictionary:\", merged_dict)"
   ]
  },
  {
   "cell_type": "code",
   "execution_count": 45,
   "id": "f23b30b8-5bad-424e-93e6-c676f5045bf8",
   "metadata": {},
   "outputs": [
    {
     "name": "stdout",
     "output_type": "stream",
     "text": [
      "Accessed value: 2\n"
     ]
    }
   ],
   "source": [
    "#33. Write a code to access a value in a nested dictionary. The function should take the dictionary and a list of keys as input, and return the corresponding value. If any of the keys do not exist in the dictionary, the function should return None.\n",
    "\n",
    "def access_nested_value(dictionary, keys):\n",
    "    nested_dict = dictionary\n",
    "    for key in keys:\n",
    "        if key in nested_dict:\n",
    "            nested_dict = nested_dict[key]\n",
    "        else:\n",
    "            return None\n",
    "    return nested_dict\n",
    "\n",
    "\n",
    "nested_dictionary = {'outer': {'inner1': {'value1': 1,'value2': 2},'inner2': {'value3': 3,'value4': 4}}}\n",
    "\n",
    "\n",
    "keys_to_access = ['outer', 'inner1', 'value2']\n",
    "result = access_nested_value(nested_dictionary, keys_to_access)\n",
    "print(\"Accessed value:\", result)"
   ]
  },
  {
   "cell_type": "code",
   "execution_count": 46,
   "id": "7aaf546c-7cb8-4651-a352-942937f6d811",
   "metadata": {},
   "outputs": [
    {
     "name": "stdout",
     "output_type": "stream",
     "text": [
      "Sorted dictionary (ascending order): {'orange': 1, 'banana': 2, 'apple': 3, 'grape': 4, 'pineapple': 5}\n",
      "Sorted dictionary (descending order): {'pineapple': 5, 'grape': 4, 'apple': 3, 'banana': 2, 'orange': 1}\n"
     ]
    }
   ],
   "source": [
    "#34. Write a code that takes a dictionary as input and returns a sorted version of it based on the values. You can choose whether to sort in ascending or descending order.\n",
    "\n",
    "def sort_dictionary_by_values(dictionary, reverse=False):\n",
    "    sorted_dict = dict(sorted(dictionary.items(), key=lambda item: item[1], reverse=reverse))\n",
    "    return sorted_dict\n",
    "\n",
    "\n",
    "input_dict = {'apple': 3, 'banana': 2, 'orange': 1, 'pineapple': 5, 'grape': 4}\n",
    "sorted_dict_asc = sort_dictionary_by_values(input_dict)  \n",
    "print(\"Sorted dictionary (ascending order):\", sorted_dict_asc)\n",
    "\n",
    "sorted_dict_desc = sort_dictionary_by_values(input_dict, reverse=True)  \n",
    "print(\"Sorted dictionary (descending order):\", sorted_dict_desc)"
   ]
  },
  {
   "cell_type": "code",
   "execution_count": 47,
   "id": "c304e100-b903-494a-a178-4da6cda1e9d6",
   "metadata": {},
   "outputs": [
    {
     "name": "stdout",
     "output_type": "stream",
     "text": [
      "Inverted dictionary: {3: ['apple', 'grape'], 2: ['banana'], 1: ['orange']}\n"
     ]
    }
   ],
   "source": [
    "#35. Write a code that inverts a dictionary, swapping keys and values. Ensure that the inverted dictionary correctly handles cases where multiple keys have the same value by storing the keys as a list in the inverted dictionary.\n",
    "\n",
    "def invert_dictionary(dictionary):\n",
    "    inverted_dict = {}\n",
    "    for key, value in dictionary.items():\n",
    "        if value in inverted_dict:\n",
    "            inverted_dict[value].append(key)\n",
    "        else:\n",
    "            inverted_dict[value] = [key]\n",
    "    return inverted_dict\n",
    "\n",
    "\n",
    "input_dict = {'apple': 3, 'banana': 2, 'orange': 1, 'grape': 3}\n",
    "inverted_dict = invert_dictionary(input_dict)\n",
    "print(\"Inverted dictionary:\", inverted_dict)"
   ]
  },
  {
   "cell_type": "code",
   "execution_count": null,
   "id": "840706db-2d53-46e5-bdff-a49fa9d5bcfb",
   "metadata": {},
   "outputs": [],
   "source": []
  }
 ],
 "metadata": {
  "kernelspec": {
   "display_name": "Python 3 (ipykernel)",
   "language": "python",
   "name": "python3"
  },
  "language_info": {
   "codemirror_mode": {
    "name": "ipython",
    "version": 3
   },
   "file_extension": ".py",
   "mimetype": "text/x-python",
   "name": "python",
   "nbconvert_exporter": "python",
   "pygments_lexer": "ipython3",
   "version": "3.11.7"
  }
 },
 "nbformat": 4,
 "nbformat_minor": 5
}
