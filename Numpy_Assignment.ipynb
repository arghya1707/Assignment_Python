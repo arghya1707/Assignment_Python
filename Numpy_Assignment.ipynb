{
 "cells": [
  {
   "cell_type": "code",
   "execution_count": 6,
   "id": "ba901d35-6202-4050-b8f4-ce3561f09137",
   "metadata": {},
   "outputs": [],
   "source": [
    "import numpy as np"
   ]
  },
  {
   "cell_type": "code",
   "execution_count": 7,
   "id": "21ad0055-4961-48ae-972d-a51695ba4134",
   "metadata": {},
   "outputs": [],
   "source": [
    "#1. Create a NumPy array 'arr' of integers from 0 to 5 and print its data type.\n",
    "arr = np.arange(6)"
   ]
  },
  {
   "cell_type": "code",
   "execution_count": 8,
   "id": "b89355bd-9fc0-4945-b5d8-5a4cbd73ef3b",
   "metadata": {},
   "outputs": [
    {
     "data": {
      "text/plain": [
       "array([0, 1, 2, 3, 4, 5])"
      ]
     },
     "execution_count": 8,
     "metadata": {},
     "output_type": "execute_result"
    }
   ],
   "source": [
    "arr"
   ]
  },
  {
   "cell_type": "code",
   "execution_count": 9,
   "id": "bf414efe-b282-4bdd-b1e5-436aaa29a6ba",
   "metadata": {},
   "outputs": [
    {
     "name": "stdout",
     "output_type": "stream",
     "text": [
      "Yes , the Datatype of arr is float in nature\n"
     ]
    }
   ],
   "source": [
    "#2. Given a NumPy array 'arr', check if its data type is float64.\n",
    "#    arr = np.array([1.5, 2.6, 3.7])\n",
    "arr = np.array([1.5, 2.6, 3.7])\n",
    "arr_datatype = arr.dtype\n",
    "if arr_datatype == float :\n",
    "    print('Yes , the Datatype of arr is float in nature')\n",
    "else :\n",
    "    print('NO , the Datatype of arr is float in nature')"
   ]
  },
  {
   "cell_type": "code",
   "execution_count": 21,
   "id": "541956a1-b6bc-4b6a-9a47-17ddc8dbe6cf",
   "metadata": {},
   "outputs": [
    {
     "name": "stdout",
     "output_type": "stream",
     "text": [
      "The array is:: [2.+4.j 5.+7.j 3.+6.j]\n",
      "The Datatype of the arr is:: complex128\n"
     ]
    }
   ],
   "source": [
    "#3. Create a NumPy array 'arr' with a data type of complex128 containing three complex numbers.\n",
    "arr = np.array([2+4j , 5+7j , 3+6j], dtype=np.complex128)\n",
    "print('The array is::', arr)\n",
    "print('The Datatype of the arr is::',arr.dtype)"
   ]
  },
  {
   "cell_type": "code",
   "execution_count": 35,
   "id": "4b13cbdd-b0cc-4894-ab14-17788633b8e5",
   "metadata": {},
   "outputs": [
    {
     "name": "stdout",
     "output_type": "stream",
     "text": [
      "The orginal data type is :: int32\n",
      "The converted data type is :: float32\n"
     ]
    }
   ],
   "source": [
    "#4. Convert an existing NumPy array 'arr' of integers to float32 data type.\n",
    "arr = np.array([2,4,5,8,6])\n",
    "arr_float = arr.astype(np.float32)\n",
    "print('The orginal data type is ::', arr.dtype)\n",
    "print('The converted data type is ::', arr_float.dtype)"
   ]
  },
  {
   "cell_type": "code",
   "execution_count": 44,
   "id": "9f46ab55-489d-44be-ad03-948ebc373a2c",
   "metadata": {},
   "outputs": [
    {
     "name": "stdout",
     "output_type": "stream",
     "text": [
      "The orginal data type is :: float64\n",
      "The converted data type is :: float32\n"
     ]
    }
   ],
   "source": [
    "#5. Given a NumPy array 'arr' with float64 data type, convert it to float32 to reduce decimal precision.\n",
    "arr = np.array([1.2452,2.3654,8.2556,9.5656], dtype = np.float64)\n",
    "arr_float32 = arr.astype(np.float32)\n",
    "print('The orginal data type is ::', arr.dtype)\n",
    "print('The converted data type is ::', arr_float32.dtype)"
   ]
  },
  {
   "cell_type": "code",
   "execution_count": 6,
   "id": "c6be99fc-415f-4ad6-a859-af9fbb8967f7",
   "metadata": {},
   "outputs": [
    {
     "name": "stdout",
     "output_type": "stream",
     "text": [
      "Shape: (2, 4), Size: 8, Data Type: int32\n"
     ]
    }
   ],
   "source": [
    "#6.  Write a function array_attributes that takes a NumPy array as input and returns its shape, size, and data type\n",
    "import numpy as np\n",
    "def array_attributes(arr):\n",
    "  \n",
    "    shape = arr.shape\n",
    "    size = arr.size\n",
    "    data_type = arr.dtype\n",
    "    \n",
    "    return shape, size, data_type\n",
    "\n",
    "# Example usage:\n",
    "arr = np.array([[5,6,4,9], [4,2,7,3]])\n",
    "attributes = array_attributes(arr)\n",
    "print(f\"Shape: {attributes[0]}, Size: {attributes[1]}, Data Type: {attributes[2]}\")\n"
   ]
  },
  {
   "cell_type": "code",
   "execution_count": 9,
   "id": "f09cd0db-810f-4c5a-9a20-e85f1a18568f",
   "metadata": {},
   "outputs": [
    {
     "name": "stdout",
     "output_type": "stream",
     "text": [
      " dimension is : 2\n"
     ]
    }
   ],
   "source": [
    "#7. Create a function array_dimension that takes a NumPy array as input and returns its dimensionality..\n",
    "\n",
    "def array_dimension(arr):\n",
    "    dimension = arr.ndim\n",
    "    return dimension\n",
    "# Example ::\n",
    "arr = np.array([[1,5,4],[8,6,3]])\n",
    "dimension = array_dimension(arr)\n",
    "print(f\" dimension is : {dimension}\")\n"
   ]
  },
  {
   "cell_type": "code",
   "execution_count": 14,
   "id": "e1a64ad7-081a-40ce-a102-81a925409c87",
   "metadata": {},
   "outputs": [
    {
     "name": "stdout",
     "output_type": "stream",
     "text": [
      " Item size is:4 bytes , Total size is:24 bytes\n"
     ]
    }
   ],
   "source": [
    "#8. Design a function item_size_info that takes a NumPy array as input and returns the item size and the total \n",
    "#size in bytes..\n",
    "def item_size_info(arr):\n",
    "    item_size = arr.itemsize\n",
    "    total_size = arr.nbytes\n",
    "    return item_size , total_size\n",
    "\n",
    "# Example\n",
    "arr = np.array([[1,2,5],[4,7,6]])\n",
    "info =  item_size_info(arr)\n",
    "print(f\" Item size is:{info[0]} bytes , Total size is:{info[1]} bytes\")\n"
   ]
  },
  {
   "cell_type": "code",
   "execution_count": 17,
   "id": "a0296e1d-6d4a-4770-8de0-ebeaa5ef823b",
   "metadata": {},
   "outputs": [
    {
     "name": "stdout",
     "output_type": "stream",
     "text": [
      " Strides of the array is: (16, 4)\n"
     ]
    }
   ],
   "source": [
    "#9. Create a function array_strides that takes a NumPy array as input and returns the strides of the array..\n",
    "def array_strides(arr):\n",
    "    strides = arr.strides\n",
    "    return strides\n",
    "\n",
    "# Example\n",
    "arr = np.array([[1,6,8,5],[4,3,7,6]])\n",
    "strides = array_strides(arr)\n",
    "print(f\" Strides of the array is: {strides}\")\n"
   ]
  },
  {
   "cell_type": "code",
   "execution_count": 18,
   "id": "6a47de32-ca37-46b4-b9fa-fd207d1c529b",
   "metadata": {},
   "outputs": [
    {
     "name": "stdout",
     "output_type": "stream",
     "text": [
      " Shape of the array is: (2, 4) , Strides of the array is: (16, 4) \n"
     ]
    }
   ],
   "source": [
    "#10. Design a function shape_stride_relationship that takes a NumPy array as input and returns the shape \n",
    "# and strides of the array.\n",
    "def shape_stride_relationship(arr):\n",
    "    shape = arr.shape\n",
    "    strides = arr.strides\n",
    "    return shape,strides\n",
    "\n",
    "# Example\n",
    "arr = np.array([[1,6,8,5],[4,3,7,6]])\n",
    "shape_strides = shape_stride_relationship(arr)\n",
    "print(f\" Shape of the array is: {shape_strides[0]} , Strides of the array is: {shape_strides[1]} \")"
   ]
  },
  {
   "cell_type": "code",
   "execution_count": 7,
   "id": "43aff2d7-c80a-47bb-92e4-119efe0d1d5e",
   "metadata": {},
   "outputs": [],
   "source": [
    "#11. Create a function `create_zeros_array` that takes an integer `n` as input and returns a NumPy array of zeros with `n` elements::\n",
    "\n",
    "import numpy as np"
   ]
  },
  {
   "cell_type": "code",
   "execution_count": 45,
   "id": "b9f58103-e6ef-4e15-8e05-40f2b38e851a",
   "metadata": {},
   "outputs": [
    {
     "name": "stdin",
     "output_type": "stream",
     "text": [
      "Enter the no. of elements:: 4\n"
     ]
    },
    {
     "name": "stdout",
     "output_type": "stream",
     "text": [
      "A Numpy array of zeros is :: [0. 0. 0. 0.]\n"
     ]
    }
   ],
   "source": [
    "def create_zeros_array(arr):\n",
    "    n = int(input('Enter the no. of elements::'))\n",
    "    arr = np.zeros(n)\n",
    "    return arr\n",
    "#Example\n",
    "arr_zeros = create_zeros_array(arr)\n",
    "print('A Numpy array of zeros is ::',arr_zeros)"
   ]
  },
  {
   "cell_type": "code",
   "execution_count": 44,
   "id": "c3b855be-fb33-46ed-a6bd-f2d3ebb4030c",
   "metadata": {},
   "outputs": [
    {
     "name": "stdin",
     "output_type": "stream",
     "text": [
      "Enter no. of Rows:: 5\n",
      "Enter no. of columns:: 4\n"
     ]
    },
    {
     "name": "stdout",
     "output_type": "stream",
     "text": [
      "A Numpy 2D-Array of ones is : [[1. 1. 1. 1.]\n",
      " [1. 1. 1. 1.]\n",
      " [1. 1. 1. 1.]\n",
      " [1. 1. 1. 1.]\n",
      " [1. 1. 1. 1.]]\n"
     ]
    }
   ],
   "source": [
    "#12. Write a function `create_ones_matrix` that takes integers `rows` and `cols` as inputs and generates a 2D \n",
    "# NumPy array filled with ones of size `rows x cols`..\n",
    "def create_ones_matrix(arr):\n",
    "    rows = int(input('Enter no. of Rows::'))\n",
    "    cols = int(input('Enter no. of columns::'))\n",
    "    arr = np.ones((rows,cols))\n",
    "    return arr\n",
    "#Example\n",
    "arr_ones = create_ones_matrix(arr)\n",
    "print('A Numpy 2D-Array of ones is :',arr_ones)"
   ]
  },
  {
   "cell_type": "code",
   "execution_count": 46,
   "id": "f12256c5-1206-48e6-8eff-58fcecb2d2c9",
   "metadata": {},
   "outputs": [
    {
     "name": "stdin",
     "output_type": "stream",
     "text": [
      "Enter the starting element 1\n",
      "Enter the ending element 10\n",
      "Enter the step size 1\n"
     ]
    },
    {
     "name": "stdout",
     "output_type": "stream",
     "text": [
      "The Numpy array is :[1 2 3 4 5 6 7 8 9]\n"
     ]
    }
   ],
   "source": [
    "#13. Write a function `generate_range_array` that takes three integers start, stop, and step as arguments and \n",
    "# creates a NumPy array with a range starting from `start`, ending at stop (exclusive), and with the specified 'step'::\n",
    "\n",
    "def generate_range_array(arr):\n",
    "    start = int(input('Enter the starting element'))\n",
    "    stop = int(input('Enter the ending element'))\n",
    "    step = int(input('Enter the step size'))\n",
    "    arr = np.arange(start,stop,step)\n",
    "    return arr\n",
    "    \n",
    "#Example\n",
    "arr_with_step_size = generate_range_array(arr)\n",
    "print(f\"The Numpy array is :{arr_with_step_size}\")"
   ]
  },
  {
   "cell_type": "code",
   "execution_count": 48,
   "id": "ddd9df37-66e7-43e4-a404-6d70149340e9",
   "metadata": {},
   "outputs": [
    {
     "name": "stdin",
     "output_type": "stream",
     "text": [
      "Enter the starting element 2.2\n",
      "Enter the ending element 7.9\n",
      "Enter the step size 10\n"
     ]
    },
    {
     "name": "stdout",
     "output_type": "stream",
     "text": [
      "The Numpy array is :[2.2        2.83333333 3.46666667 4.1        4.73333333 5.36666667\n",
      " 6.         6.63333333 7.26666667 7.9       ]\n"
     ]
    }
   ],
   "source": [
    "#14. Design a function `generate_linear_space` that takes two floats `start`, `stop`, and an integer `num` as \n",
    "# arguments and generates a NumPy array with num equally spaced values between `start` and `stop` inclusive).\n",
    "\n",
    "def generate_linear_space(arr):\n",
    "    start = float(input('Enter the starting element'))\n",
    "    stop = float(input('Enter the ending element'))\n",
    "    num = int(input('Enter the step size'))\n",
    "    arr = np.linspace(start,stop,num)\n",
    "    return arr\n",
    "    \n",
    "#Example\n",
    "arr_linear_space = generate_linear_space(arr)\n",
    "print(f\"The Numpy array is :{arr_linear_space}\")"
   ]
  },
  {
   "cell_type": "code",
   "execution_count": 49,
   "id": "c3baf062-ea50-4b23-a0e0-421a00092e8e",
   "metadata": {},
   "outputs": [
    {
     "name": "stdin",
     "output_type": "stream",
     "text": [
      "Enter the no.:: 4\n"
     ]
    },
    {
     "name": "stdout",
     "output_type": "stream",
     "text": [
      "The squre identity matrix is:: [[1. 0. 0. 0.]\n",
      " [0. 1. 0. 0.]\n",
      " [0. 0. 1. 0.]\n",
      " [0. 0. 0. 1.]]\n"
     ]
    }
   ],
   "source": [
    "#15. Create a function `create_identity_matrix` that takes an integer `n` as input and generates a square \n",
    "# identity matrix of size `n x n` using `numpy.eye`.\n",
    "def create_identity_matrix(arr):\n",
    "    n = int(input('Enter the no.::'))\n",
    "    return np.eye(n)\n",
    "#Example\n",
    "array = create_identity_matrix(arr)\n",
    "print('The squre identity matrix is::',array)"
   ]
  },
  {
   "cell_type": "code",
   "execution_count": 50,
   "id": "932786bd-2f01-48b5-b0f5-f4ba6f8f277a",
   "metadata": {},
   "outputs": [
    {
     "name": "stdin",
     "output_type": "stream",
     "text": [
      "Enter the no.:: 4\n",
      "Enter the element 1\n",
      "Enter the element 7\n",
      "Enter the element 8\n",
      "Enter the element 6\n"
     ]
    },
    {
     "name": "stdout",
     "output_type": "stream",
     "text": [
      "The Numpy Array is :: [1 7 8 6]\n"
     ]
    }
   ],
   "source": [
    "#16. Write a function that takes a Python list and converts it into a NumPy array:\n",
    "def list_into_array(arr):\n",
    "    list = []\n",
    "    n = int(input('Enter the no.::'))\n",
    "    for i in range(n):\n",
    "        list.append(int(input(\"Enter the element\")))\n",
    "    return np.array(list)\n",
    "#Example\n",
    "array = list_into_array(arr)\n",
    "print('The Numpy Array is ::',array)\n",
    "    "
   ]
  },
  {
   "cell_type": "code",
   "execution_count": 51,
   "id": "a8372202-964e-4b94-8200-6abc864324de",
   "metadata": {},
   "outputs": [
    {
     "name": "stdout",
     "output_type": "stream",
     "text": [
      "Original array: [9 8 3 6 1 4 2 4 5 8 7 9]\n",
      "View array: [9 8 3 6 1 4 2 4 5 8 7 9]\n",
      "Modified view array: [[9 8 3]\n",
      " [6 1 4]\n",
      " [2 4 5]\n",
      " [8 7 9]]\n",
      "modified view array: [9 0 8 0 3 0 6 0 1 0 4 0 2 0 4 0 5 0 8 0 7 0 9 0]\n"
     ]
    }
   ],
   "source": [
    "#17. Create a NumPy array and demonstrate the use of `numpy.view` to create a new array object with the same data::\n",
    "\n",
    "# Step 1: Create an initial NumPy array\n",
    "original_array = np.array([9,8,3,6,1,4,2,4,5,8,7,9])\n",
    "view_array = original_array.view()\n",
    "\n",
    "#disply\n",
    "print(\"Original array:\", original_array)\n",
    "print(\"View array:\", view_array)\n",
    "\n",
    "# Step 2: Modify the view array by reshape::\n",
    "view_array = original_array.view().reshape(4,3)\n",
    "\n",
    "\n",
    "# Display \n",
    "print(\"Modified view array:\", view_array)\n",
    "\n",
    "# again modify into 16 bit int ::\n",
    "view_array_1 = original_array.view(np.int16)\n",
    "\n",
    "#display\n",
    "print(\"modified view array:\",view_array_1)"
   ]
  },
  {
   "cell_type": "code",
   "execution_count": 7,
   "id": "839dee7c-34c3-45c5-9e42-36713c648c37",
   "metadata": {},
   "outputs": [
    {
     "name": "stdout",
     "output_type": "stream",
     "text": [
      "[[4 5 8]\n",
      " [5 9 7]\n",
      " [5 9 3]\n",
      " [6 4 7]]\n",
      "[[4 5 8 5 9 3]\n",
      " [5 9 7 6 4 7]]\n"
     ]
    }
   ],
   "source": [
    "#18. Write a function that takes two NumPy arrays and concatenates them along a specified axis.\n",
    "\n",
    "def concatenates_arrays(arr1,arr2,axis=0):\n",
    "    return np.concatenate((arr1,arr2), axis=axis)\n",
    "\n",
    "#Example\n",
    "arr1 = np.array([[4,5,8],[5,9,7]])\n",
    "arr2 = np.array([[5,9,3],[6,4,7]])\n",
    "output_axis_0 = concatenates_arrays(arr1,arr2,axis=0)\n",
    "print(output_axis_0)\n",
    "output_axis_1 = concatenates_arrays(arr1,arr2,axis=1)\n",
    "print(output_axis_1)"
   ]
  },
  {
   "cell_type": "code",
   "execution_count": 10,
   "id": "0ee40f97-3cbb-4421-8bc4-0ecc5c99019f",
   "metadata": {},
   "outputs": [
    {
     "name": "stdout",
     "output_type": "stream",
     "text": [
      "[[4 6 7 2 6]\n",
      " [6 4 8 8 7]]\n"
     ]
    }
   ],
   "source": [
    "#19. Create two NumPy arrays with different shapes and concatenate them horizontally using `numpy concatenate'::\n",
    "\n",
    "arr1 = np.array([[4,6,7],[6,4,8]])\n",
    "arr2 = np.array([[2,6],[8,7]])\n",
    "result = np.concatenate((arr1,arr2), axis=1)\n",
    "print(result)"
   ]
  },
  {
   "cell_type": "code",
   "execution_count": 12,
   "id": "9dbb3f36-5c5a-4c8d-86b6-b4cca3f0a8d7",
   "metadata": {},
   "outputs": [
    {
     "name": "stdout",
     "output_type": "stream",
     "text": [
      "[[1 2 3]\n",
      " [4 5 6]\n",
      " [7 8 9]]\n"
     ]
    }
   ],
   "source": [
    "#20. Write a function that vertically stacks multiple NumPy arrays given as a list::\n",
    "\n",
    "def vertically_stack(array):\n",
    "    return np.vstack(array)\n",
    "\n",
    "#Example\n",
    "arr1 = [1,2,3]\n",
    "arr2 = [4,5,6]\n",
    "arr3 = [7,8,9]\n",
    "result = vertically_stack([arr1,arr2,arr3])\n",
    "print(result)"
   ]
  },
  {
   "cell_type": "code",
   "execution_count": 20,
   "id": "a05c0af2-ce58-4b1f-bc25-8d6afeb65608",
   "metadata": {},
   "outputs": [
    {
     "name": "stdin",
     "output_type": "stream",
     "text": [
      "Enter the starting element 1\n",
      "Enter the ending element 10\n",
      "Enter the step size 1\n"
     ]
    },
    {
     "name": "stdout",
     "output_type": "stream",
     "text": [
      "The Numpy array is :[ 1  2  3  4  5  6  7  8  9 10]\n"
     ]
    }
   ],
   "source": [
    "#21. Write a Python function using NumPy to create an array of integers within a specified range (inclusive) with a given step size::\n",
    "\n",
    "def generate_range_array(arr):\n",
    "    start = int(input('Enter the starting element'))\n",
    "    stop = int(input('Enter the ending element'))\n",
    "    step = int(input('Enter the step size'))\n",
    "    arr = np.arange(start,stop+1,step)\n",
    "    return arr\n",
    "    \n",
    "#Example\n",
    "arr_with_step_size = generate_range_array(arr)\n",
    "print(f\"The Numpy array is :{arr_with_step_size}\")\n"
   ]
  },
  {
   "cell_type": "code",
   "execution_count": 21,
   "id": "1701fdd8-23ff-4c39-9523-2c30f4dd8d9f",
   "metadata": {},
   "outputs": [
    {
     "name": "stdout",
     "output_type": "stream",
     "text": [
      "The Numpy array is :[0.         0.11111111 0.22222222 0.33333333 0.44444444 0.55555556\n",
      " 0.66666667 0.77777778 0.88888889 1.        ]\n"
     ]
    }
   ],
   "source": [
    "#22. Write a Python function using NumPy to generate an array of 10 equally spaced values between 0 and 1 (inclusive)::\n",
    "\n",
    "def generate_linear_space(start,stop,step):\n",
    "    arr = np.linspace(start,stop,step)\n",
    "    return arr\n",
    "    \n",
    "#Example\n",
    "arr_linear_space = generate_linear_space(0,1,10)\n",
    "print(f\"The Numpy array is :{arr_linear_space}\")\n"
   ]
  },
  {
   "cell_type": "code",
   "execution_count": 30,
   "id": "ca244817-9b94-425a-b541-5674d2216fd4",
   "metadata": {},
   "outputs": [
    {
     "name": "stdout",
     "output_type": "stream",
     "text": [
      "The Numpy array is :[   1.            5.62341325   31.6227766   177.827941   1000.        ]\n"
     ]
    }
   ],
   "source": [
    "#23. Write a Python function using NumPy to create an array of 5 logarithmically spaced values between 1 and 1000 (inclusive)::\n",
    "\n",
    "def generate_log_space(start,stop,step):\n",
    "    arr = np.logspace(start,stop,step)\n",
    "    return arr\n",
    "    \n",
    "#Example\n",
    "arr_log_space = generate_log_space(0,3,5)\n",
    "print(f\"The Numpy array is :{arr_log_space}\")\n"
   ]
  },
  {
   "cell_type": "code",
   "execution_count": 36,
   "id": "d44cc8a4-63df-47e5-9698-6ec7b0cabf79",
   "metadata": {},
   "outputs": [
    {
     "name": "stdout",
     "output_type": "stream",
     "text": [
      "   Column1  Column2  Column3\n",
      "0       23       11       12\n",
      "1       55        2       38\n",
      "2       21       22        7\n",
      "3       77       54       57\n",
      "4        7      100       76\n"
     ]
    }
   ],
   "source": [
    "#24. Create a Pandas DataFrame using a NumPy array that contains 5 rows and 3 columns, where the values are random integers between 1 and 100::\n",
    "\n",
    "import pandas as pd\n",
    "  \n",
    "array = np.random.randint(1,101, size=(5,3))\n",
    "df = pd.DataFrame(array, columns=['Column_1', 'Column_2', 'Column_3'])\n",
    "print(df)\n",
    "    \n",
    "\n",
    "    \n",
    "  \n"
   ]
  },
  {
   "cell_type": "code",
   "execution_count": 53,
   "id": "66fd2ffd-7e10-4d44-9c5a-15a201e46016",
   "metadata": {},
   "outputs": [
    {
     "name": "stdout",
     "output_type": "stream",
     "text": [
      "   A  B\n",
      "0  5 -3\n",
      "1  2  5\n",
      "2 -9 -9\n",
      "3 -8  6\n",
      "4  6  8\n",
      "5 -7 -7\n",
      "6  8  2\n",
      "After replacing negative values from the column::\n",
      "   A  B\n",
      "0  5  0\n",
      "1  2  5\n",
      "2 -9  0\n",
      "3 -8  6\n",
      "4  6  8\n",
      "5 -7  0\n",
      "6  8  2\n"
     ]
    }
   ],
   "source": [
    "#25. Write a function that takes a Pandas DataFrame and replaces all negative values in a specific column with zeros. Use NumPy operations within the Pandas DataFrame::\n",
    "\n",
    "def negative_values_replace(df,column):\n",
    "    df[column] = np.where(df[column]<0 , 0 , df[column])\n",
    "    return df\n",
    "\n",
    "#Example\n",
    "data = {'A' : [5,2,-9,-8,6,-7,8],\n",
    "      'B' : [-3,5,-9,6,8,-7,2]}\n",
    "df= pd.DataFrame(data)\n",
    "print(df)\n",
    "df = negative_values_replace(df,'B')\n",
    "print('After replacing negative values from the column::')\n",
    "print(df)"
   ]
  },
  {
   "cell_type": "code",
   "execution_count": 56,
   "id": "d0e0d076-8df0-413c-afaa-11b546d89966",
   "metadata": {},
   "outputs": [
    {
     "name": "stdout",
     "output_type": "stream",
     "text": [
      "30\n"
     ]
    }
   ],
   "source": [
    "#26. Access the 3rd element from the given NumPy array.\n",
    "arr = np.array([10, 20, 30, 40, 50])\n",
    "third_element = arr[2]\n",
    "print(third_element)"
   ]
  },
  {
   "cell_type": "code",
   "execution_count": 66,
   "id": "f6d9b6c4-f5fb-431a-a9bf-dcc8a7c6d0e4",
   "metadata": {},
   "outputs": [
    {
     "name": "stdout",
     "output_type": "stream",
     "text": [
      "The element at index (1, 2) is: 6\n"
     ]
    }
   ],
   "source": [
    "#27. Retrieve the element at index (1, 2) from the 2D NumPy array::\n",
    "arr_2d = np.array([[1, 2, 3],\n",
    "                    [4, 5, 6],\n",
    "                   [7, 8, 9]])\n",
    "\n",
    "element = arr_2d[1, 2]\n",
    "\n",
    "print(\"The element at index (1, 2) is:\", element)\n",
    "\n"
   ]
  },
  {
   "cell_type": "code",
   "execution_count": 10,
   "id": "a704ab1f-7f00-42a7-8557-abbb24cec65c",
   "metadata": {},
   "outputs": [
    {
     "name": "stdout",
     "output_type": "stream",
     "text": [
      "[ 8 10  7]\n"
     ]
    }
   ],
   "source": [
    "#28. Using boolean indexing, extract elements greater than 5 from the given NumPy array:\n",
    "\n",
    "arr = np.array([3, 8, 2, 10, 5, 7])\n",
    "greater_than_five = arr[arr > 5]\n",
    "print(greater_than_five)"
   ]
  },
  {
   "cell_type": "code",
   "execution_count": 15,
   "id": "f079c040-96d5-4c91-a0fb-857c5e0b83c4",
   "metadata": {},
   "outputs": [
    {
     "name": "stdout",
     "output_type": "stream",
     "text": [
      "[3 4 5 6]\n"
     ]
    }
   ],
   "source": [
    "#29. Perform basic slicing to extract elements from index 2 to 5 (inclusive) from the given NumPy array::\n",
    "\n",
    "arr = np.array([1, 2, 3, 4, 5, 6, 7, 8, 9])\n",
    "sliced_array = arr[2:6]\n",
    "print(sliced_array)"
   ]
  },
  {
   "cell_type": "code",
   "execution_count": 24,
   "id": "fa5461e1-30bf-4fec-9e59-072cbed0d177",
   "metadata": {},
   "outputs": [
    {
     "name": "stdout",
     "output_type": "stream",
     "text": [
      "[[2 3]\n",
      " [5 6]]\n"
     ]
    }
   ],
   "source": [
    "#30. Slice the 2D NumPy array to extract the sub-array `[[2, 3], [5, 6]]` from the given array::\n",
    "\n",
    "arr_2d = np.array([[1, 2, 3],\n",
    "                   [4, 5, 6],\n",
    "                   [7, 8, 9]])\n",
    "sub_array = arr_2d[0:2 ,1:3]\n",
    "print(sub_array)"
   ]
  },
  {
   "cell_type": "code",
   "execution_count": 40,
   "id": "00d16aac-5af3-403c-8e07-c90a4f4195e5",
   "metadata": {},
   "outputs": [
    {
     "name": "stdout",
     "output_type": "stream",
     "text": [
      "[[2 8]\n",
      " [5 6]]\n"
     ]
    }
   ],
   "source": [
    "#31.Write a NumPy function to extract elements in specific order from a given 2D array based on indices provided in another array ::\n",
    "\n",
    "def extract_from_2D_array(arr,indices):\n",
    "    return np.take(arr,indices)\n",
    "\n",
    "#Example\n",
    "arr = np.array([[2,5,8],\n",
    "               [6,5,3],\n",
    "               [8,2,3]])\n",
    "indices = np.array([[0,2] , [1,3]])\n",
    "\n",
    "result =  extract_from_2D_array(arr,indices)\n",
    "print(result)"
   ]
  },
  {
   "cell_type": "code",
   "execution_count": 47,
   "id": "f4e74d97-1be4-4786-b7ab-902946943892",
   "metadata": {},
   "outputs": [
    {
     "name": "stdout",
     "output_type": "stream",
     "text": [
      "[10 47 59]\n"
     ]
    }
   ],
   "source": [
    "#32. Create a NumPy function that filters elements greater than a threshold from a given 1D array using boolean indexing:::\n",
    "def greater_than_threshold(arr,threshold):\n",
    "    return arr[arr > threshold]\n",
    "\n",
    "#Example\n",
    "arr = np.array([2,5,3,10,47,59,2,3])\n",
    "threshold = 7\n",
    "result = greater_than_threshold(arr,threshold)\n",
    "print(result)"
   ]
  },
  {
   "cell_type": "code",
   "execution_count": 15,
   "id": "f5d8081c-79fb-4334-8088-600ae08e9cf3",
   "metadata": {},
   "outputs": [
    {
     "name": "stdout",
     "output_type": "stream",
     "text": [
      "[[[18 19 20]\n",
      "  [21 22 23]\n",
      "  [24 25 26]]\n",
      "\n",
      " [[ 9 10 11]\n",
      "  [12 13 14]\n",
      "  [15 16 17]]\n",
      "\n",
      " [[ 0  1  2]\n",
      "  [ 3  4  5]\n",
      "  [ 6  7  8]]]\n"
     ]
    }
   ],
   "source": [
    "#33. Develop a NumPy function that extracts specific elements from a 3D array using indices provided in three separate arrays for each dimension::\n",
    "\n",
    "def extracts_from_3d_array(arr, dim_1, dim_2, dim_3):\n",
    "    first_result = np.take(arr, dim_1, axis = 0)\n",
    "    next_result = np.take(first_result, dim_2, axis = 1)\n",
    "    final_result = np.take(next_result, dim_2, axis = 2)\n",
    "    return final_result\n",
    "\n",
    "#Example\n",
    "arr = np.arange(27).reshape(3,3,3)\n",
    "dim_1 = [2,1,0]\n",
    "dim_2 = [0,1,2]\n",
    "dim_3 = [1,2,3]\n",
    "extract_elements = extracts_from_3d_array(arr, dim_1, dim_2, dim_3)\n",
    "print(extract_elements)\n",
    "    "
   ]
  },
  {
   "cell_type": "code",
   "execution_count": null,
   "id": "338d92a1-b290-430e-9342-0e89280695ac",
   "metadata": {},
   "outputs": [],
   "source": []
  }
 ],
 "metadata": {
  "kernelspec": {
   "display_name": "Python 3 (ipykernel)",
   "language": "python",
   "name": "python3"
  },
  "language_info": {
   "codemirror_mode": {
    "name": "ipython",
    "version": 3
   },
   "file_extension": ".py",
   "mimetype": "text/x-python",
   "name": "python",
   "nbconvert_exporter": "python",
   "pygments_lexer": "ipython3",
   "version": "3.11.7"
  }
 },
 "nbformat": 4,
 "nbformat_minor": 5
}
