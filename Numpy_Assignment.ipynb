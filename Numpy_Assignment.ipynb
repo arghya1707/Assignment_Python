{
 "cells": [
  {
   "cell_type": "code",
   "execution_count": 1,
   "id": "ba901d35-6202-4050-b8f4-ce3561f09137",
   "metadata": {},
   "outputs": [],
   "source": [
    "import numpy as np"
   ]
  },
  {
   "cell_type": "code",
   "execution_count": 2,
   "id": "21ad0055-4961-48ae-972d-a51695ba4134",
   "metadata": {},
   "outputs": [],
   "source": [
    "#1. Create a NumPy array 'arr' of integers from 0 to 5 and print its data type.\n",
    "arr = np.arange(6)"
   ]
  },
  {
   "cell_type": "code",
   "execution_count": 3,
   "id": "b89355bd-9fc0-4945-b5d8-5a4cbd73ef3b",
   "metadata": {},
   "outputs": [
    {
     "data": {
      "text/plain": [
       "array([0, 1, 2, 3, 4, 5])"
      ]
     },
     "execution_count": 3,
     "metadata": {},
     "output_type": "execute_result"
    }
   ],
   "source": [
    "arr"
   ]
  },
  {
   "cell_type": "code",
   "execution_count": 4,
   "id": "bf414efe-b282-4bdd-b1e5-436aaa29a6ba",
   "metadata": {},
   "outputs": [
    {
     "name": "stdout",
     "output_type": "stream",
     "text": [
      "Yes , the Datatype of arr is float in nature\n"
     ]
    }
   ],
   "source": [
    "#2. Given a NumPy array 'arr', check if its data type is float64.\n",
    "#    arr = np.array([1.5, 2.6, 3.7])\n",
    "arr = np.array([1.5, 2.6, 3.7])\n",
    "arr_datatype = arr.dtype\n",
    "if arr_datatype == float :\n",
    "    print('Yes , the Datatype of arr is float in nature')\n",
    "else :\n",
    "    print('NO , the Datatype of arr is float in nature')"
   ]
  },
  {
   "cell_type": "code",
   "execution_count": 5,
   "id": "541956a1-b6bc-4b6a-9a47-17ddc8dbe6cf",
   "metadata": {},
   "outputs": [
    {
     "name": "stdout",
     "output_type": "stream",
     "text": [
      "The array is:: [2.+4.j 5.+7.j 3.+6.j]\n",
      "The Datatype of the arr is:: complex128\n"
     ]
    }
   ],
   "source": [
    "#3. Create a NumPy array 'arr' with a data type of complex128 containing three complex numbers.\n",
    "arr = np.array([2+4j , 5+7j , 3+6j], dtype=np.complex128)\n",
    "print('The array is::', arr)\n",
    "print('The Datatype of the arr is::',arr.dtype)"
   ]
  },
  {
   "cell_type": "code",
   "execution_count": 6,
   "id": "4b13cbdd-b0cc-4894-ab14-17788633b8e5",
   "metadata": {},
   "outputs": [
    {
     "name": "stdout",
     "output_type": "stream",
     "text": [
      "The orginal data type is :: int32\n",
      "The converted data type is :: float32\n"
     ]
    }
   ],
   "source": [
    "#4. Convert an existing NumPy array 'arr' of integers to float32 data type.\n",
    "arr = np.array([2,4,5,8,6])\n",
    "arr_float = arr.astype(np.float32)\n",
    "print('The orginal data type is ::', arr.dtype)\n",
    "print('The converted data type is ::', arr_float.dtype)"
   ]
  },
  {
   "cell_type": "code",
   "execution_count": 7,
   "id": "9f46ab55-489d-44be-ad03-948ebc373a2c",
   "metadata": {},
   "outputs": [
    {
     "name": "stdout",
     "output_type": "stream",
     "text": [
      "The orginal data type is :: float64\n",
      "The converted data type is :: float32\n"
     ]
    }
   ],
   "source": [
    "#5. Given a NumPy array 'arr' with float64 data type, convert it to float32 to reduce decimal precision.\n",
    "arr = np.array([1.2452,2.3654,8.2556,9.5656], dtype = np.float64)\n",
    "arr_float32 = arr.astype(np.float32)\n",
    "print('The orginal data type is ::', arr.dtype)\n",
    "print('The converted data type is ::', arr_float32.dtype)"
   ]
  },
  {
   "cell_type": "code",
   "execution_count": null,
   "id": "c6be99fc-415f-4ad6-a859-af9fbb8967f7",
   "metadata": {},
   "outputs": [],
   "source": [
    "#6.  Write a function array_attributes that takes a NumPy array as input and returns its shape, size, and data type\n",
    "import numpy as np\n",
    "def array_attributes(arr):\n",
    "  \n",
    "    shape = arr.shape\n",
    "    size = arr.size\n",
    "    data_type = arr.dtype\n",
    "    \n",
    "    return shape, size, data_type\n",
    "\n",
    "# Example usage:\n",
    "arr = np.array([[5,6,4,9], [4,2,7,3]])\n",
    "attributes = array_attributes(arr)\n",
    "print(f\"Shape: {attributes[0]}, Size: {attributes[1]}, Data Type: {attributes[2]}\")\n"
   ]
  },
  {
   "cell_type": "code",
   "execution_count": null,
   "id": "f09cd0db-810f-4c5a-9a20-e85f1a18568f",
   "metadata": {},
   "outputs": [],
   "source": [
    "#7. Create a function array_dimension that takes a NumPy array as input and returns its dimensionality..\n",
    "\n",
    "def array_dimension(arr):\n",
    "    dimension = arr.ndim\n",
    "    return dimension\n",
    "# Example ::\n",
    "arr = np.array([[1,5,4],[8,6,3]])\n",
    "dimension = array_dimension(arr)\n",
    "print(f\" dimension is : {dimension}\")\n"
   ]
  },
  {
   "cell_type": "code",
   "execution_count": null,
   "id": "e1a64ad7-081a-40ce-a102-81a925409c87",
   "metadata": {},
   "outputs": [],
   "source": [
    "#8. Design a function item_size_info that takes a NumPy array as input and returns the item size and the total \n",
    "#size in bytes..\n",
    "def item_size_info(arr):\n",
    "    item_size = arr.itemsize\n",
    "    total_size = arr.nbytes\n",
    "    return item_size , total_size\n",
    "\n",
    "# Example\n",
    "arr = np.array([[1,2,5],[4,7,6]])\n",
    "info =  item_size_info(arr)\n",
    "print(f\" Item size is:{info[0]} bytes , Total size is:{info[1]} bytes\")\n"
   ]
  },
  {
   "cell_type": "code",
   "execution_count": null,
   "id": "a0296e1d-6d4a-4770-8de0-ebeaa5ef823b",
   "metadata": {},
   "outputs": [],
   "source": [
    "#9. Create a function array_strides that takes a NumPy array as input and returns the strides of the array..\n",
    "def array_strides(arr):\n",
    "    strides = arr.strides\n",
    "    return strides\n",
    "\n",
    "# Example\n",
    "arr = np.array([[1,6,8,5],[4,3,7,6]])\n",
    "strides = array_strides(arr)\n",
    "print(f\" Strides of the array is: {strides}\")\n"
   ]
  },
  {
   "cell_type": "code",
   "execution_count": null,
   "id": "6a47de32-ca37-46b4-b9fa-fd207d1c529b",
   "metadata": {},
   "outputs": [],
   "source": [
    "#10. Design a function shape_stride_relationship that takes a NumPy array as input and returns the shape \n",
    "# and strides of the array.\n",
    "def shape_stride_relationship(arr):\n",
    "    shape = arr.shape\n",
    "    strides = arr.strides\n",
    "    return shape,strides\n",
    "\n",
    "# Example\n",
    "arr = np.array([[1,6,8,5],[4,3,7,6]])\n",
    "shape_strides = shape_stride_relationship(arr)\n",
    "print(f\" Shape of the array is: {shape_strides[0]} , Strides of the array is: {shape_strides[1]} \")"
   ]
  },
  {
   "cell_type": "code",
   "execution_count": null,
   "id": "43aff2d7-c80a-47bb-92e4-119efe0d1d5e",
   "metadata": {},
   "outputs": [],
   "source": [
    "#11. Create a function `create_zeros_array` that takes an integer `n` as input and returns a NumPy array of zeros with `n` elements::\n",
    "\n",
    "import numpy as np"
   ]
  },
  {
   "cell_type": "code",
   "execution_count": null,
   "id": "b9f58103-e6ef-4e15-8e05-40f2b38e851a",
   "metadata": {},
   "outputs": [],
   "source": [
    "def create_zeros_array(arr):\n",
    "    n = int(input('Enter the no. of elements::'))\n",
    "    arr = np.zeros(n)\n",
    "    return arr\n",
    "#Example\n",
    "arr_zeros = create_zeros_array(arr)\n",
    "print('A Numpy array of zeros is ::',arr_zeros)"
   ]
  },
  {
   "cell_type": "code",
   "execution_count": null,
   "id": "c3b855be-fb33-46ed-a6bd-f2d3ebb4030c",
   "metadata": {},
   "outputs": [],
   "source": [
    "#12. Write a function `create_ones_matrix` that takes integers `rows` and `cols` as inputs and generates a 2D \n",
    "# NumPy array filled with ones of size `rows x cols`..\n",
    "def create_ones_matrix(arr):\n",
    "    rows = int(input('Enter no. of Rows::'))\n",
    "    cols = int(input('Enter no. of columns::'))\n",
    "    arr = np.ones((rows,cols))\n",
    "    return arr\n",
    "#Example\n",
    "arr_ones = create_ones_matrix(arr)\n",
    "print('A Numpy 2D-Array of ones is :',arr_ones)"
   ]
  },
  {
   "cell_type": "code",
   "execution_count": null,
   "id": "f12256c5-1206-48e6-8eff-58fcecb2d2c9",
   "metadata": {},
   "outputs": [],
   "source": [
    "#13. Write a function `generate_range_array` that takes three integers start, stop, and step as arguments and \n",
    "# creates a NumPy array with a range starting from `start`, ending at stop (exclusive), and with the specified 'step'::\n",
    "\n",
    "def generate_range_array(arr):\n",
    "    start = int(input('Enter the starting element'))\n",
    "    stop = int(input('Enter the ending element'))\n",
    "    step = int(input('Enter the step size'))\n",
    "    arr = np.arange(start,stop,step)\n",
    "    return arr\n",
    "    \n",
    "#Example\n",
    "arr_with_step_size = generate_range_array(arr)\n",
    "print(f\"The Numpy array is :{arr_with_step_size}\")"
   ]
  },
  {
   "cell_type": "code",
   "execution_count": null,
   "id": "ddd9df37-66e7-43e4-a404-6d70149340e9",
   "metadata": {},
   "outputs": [],
   "source": [
    "#14. Design a function `generate_linear_space` that takes two floats `start`, `stop`, and an integer `num` as \n",
    "# arguments and generates a NumPy array with num equally spaced values between `start` and `stop` inclusive).\n",
    "\n",
    "def generate_linear_space(arr):\n",
    "    start = float(input('Enter the starting element'))\n",
    "    stop = float(input('Enter the ending element'))\n",
    "    num = int(input('Enter the step size'))\n",
    "    arr = np.linspace(start,stop,num)\n",
    "    return arr\n",
    "    \n",
    "#Example\n",
    "arr_linear_space = generate_linear_space(arr)\n",
    "print(f\"The Numpy array is :{arr_linear_space}\")"
   ]
  },
  {
   "cell_type": "code",
   "execution_count": null,
   "id": "c3baf062-ea50-4b23-a0e0-421a00092e8e",
   "metadata": {},
   "outputs": [],
   "source": [
    "#15. Create a function `create_identity_matrix` that takes an integer `n` as input and generates a square \n",
    "# identity matrix of size `n x n` using `numpy.eye`.\n",
    "def create_identity_matrix(arr):\n",
    "    n = int(input('Enter the no.::'))\n",
    "    return np.eye(n)\n",
    "#Example\n",
    "array = create_identity_matrix(arr)\n",
    "print('The squre identity matrix is::',array)"
   ]
  },
  {
   "cell_type": "code",
   "execution_count": null,
   "id": "932786bd-2f01-48b5-b0f5-f4ba6f8f277a",
   "metadata": {},
   "outputs": [],
   "source": [
    "#16. Write a function that takes a Python list and converts it into a NumPy array:\n",
    "def list_into_array(arr):\n",
    "    list = []\n",
    "    n = int(input('Enter the no.::'))\n",
    "    for i in range(n):\n",
    "        list.append(int(input(\"Enter the element\")))\n",
    "    return np.array(list)\n",
    "#Example\n",
    "array = list_into_array(arr)\n",
    "print('The Numpy Array is ::',array)\n",
    "    "
   ]
  },
  {
   "cell_type": "code",
   "execution_count": null,
   "id": "a8372202-964e-4b94-8200-6abc864324de",
   "metadata": {},
   "outputs": [],
   "source": [
    "#17. Create a NumPy array and demonstrate the use of `numpy.view` to create a new array object with the same data::\n",
    "\n",
    "# Step 1: Create an initial NumPy array\n",
    "original_array = np.array([9,8,3,6,1,4,2,4,5,8,7,9])\n",
    "view_array = original_array.view()\n",
    "\n",
    "#disply\n",
    "print(\"Original array:\", original_array)\n",
    "print(\"View array:\", view_array)\n",
    "\n",
    "# Step 2: Modify the view array by reshape::\n",
    "view_array = original_array.view().reshape(4,3)\n",
    "\n",
    "\n",
    "# Display \n",
    "print(\"Modified view array:\", view_array)\n",
    "\n",
    "# again modify into 16 bit int ::\n",
    "view_array_1 = original_array.view(np.int16)\n",
    "\n",
    "#display\n",
    "print(\"modified view array:\",view_array_1)"
   ]
  },
  {
   "cell_type": "code",
   "execution_count": null,
   "id": "839dee7c-34c3-45c5-9e42-36713c648c37",
   "metadata": {},
   "outputs": [],
   "source": [
    "#18. Write a function that takes two NumPy arrays and concatenates them along a specified axis.\n",
    "\n",
    "def concatenates_arrays(arr1,arr2,axis=0):\n",
    "    return np.concatenate((arr1,arr2), axis=axis)\n",
    "\n",
    "#Example\n",
    "arr1 = np.array([[4,5,8],[5,9,7]])\n",
    "arr2 = np.array([[5,9,3],[6,4,7]])\n",
    "output_axis_0 = concatenates_arrays(arr1,arr2,axis=0)\n",
    "print(output_axis_0)\n",
    "output_axis_1 = concatenates_arrays(arr1,arr2,axis=1)\n",
    "print(output_axis_1)"
   ]
  },
  {
   "cell_type": "code",
   "execution_count": null,
   "id": "0ee40f97-3cbb-4421-8bc4-0ecc5c99019f",
   "metadata": {},
   "outputs": [],
   "source": [
    "#19. Create two NumPy arrays with different shapes and concatenate them horizontally using `numpy concatenate'::\n",
    "\n",
    "arr1 = np.array([[4,6,7],[6,4,8]])\n",
    "arr2 = np.array([[2,6],[8,7]])\n",
    "result = np.concatenate((arr1,arr2), axis=1)\n",
    "print(result)"
   ]
  },
  {
   "cell_type": "code",
   "execution_count": null,
   "id": "9dbb3f36-5c5a-4c8d-86b6-b4cca3f0a8d7",
   "metadata": {},
   "outputs": [],
   "source": [
    "#20. Write a function that vertically stacks multiple NumPy arrays given as a list::\n",
    "\n",
    "def vertically_stack(array):\n",
    "    return np.vstack(array)\n",
    "\n",
    "#Example\n",
    "arr1 = [1,2,3]\n",
    "arr2 = [4,5,6]\n",
    "arr3 = [7,8,9]\n",
    "result = vertically_stack([arr1,arr2,arr3])\n",
    "print(result)"
   ]
  },
  {
   "cell_type": "code",
   "execution_count": null,
   "id": "a05c0af2-ce58-4b1f-bc25-8d6afeb65608",
   "metadata": {},
   "outputs": [],
   "source": [
    "#21. Write a Python function using NumPy to create an array of integers within a specified range (inclusive) with a given step size::\n",
    "\n",
    "def generate_range_array(arr):\n",
    "    start = int(input('Enter the starting element'))\n",
    "    stop = int(input('Enter the ending element'))\n",
    "    step = int(input('Enter the step size'))\n",
    "    arr = np.arange(start,stop+1,step)\n",
    "    return arr\n",
    "    \n",
    "#Example\n",
    "arr_with_step_size = generate_range_array(arr)\n",
    "print(f\"The Numpy array is :{arr_with_step_size}\")\n"
   ]
  },
  {
   "cell_type": "code",
   "execution_count": null,
   "id": "1701fdd8-23ff-4c39-9523-2c30f4dd8d9f",
   "metadata": {},
   "outputs": [],
   "source": [
    "#22. Write a Python function using NumPy to generate an array of 10 equally spaced values between 0 and 1 (inclusive)::\n",
    "\n",
    "def generate_linear_space(start,stop,step):\n",
    "    arr = np.linspace(start,stop,step)\n",
    "    return arr\n",
    "    \n",
    "#Example\n",
    "arr_linear_space = generate_linear_space(0,1,10)\n",
    "print(f\"The Numpy array is :{arr_linear_space}\")\n"
   ]
  },
  {
   "cell_type": "code",
   "execution_count": null,
   "id": "ca244817-9b94-425a-b541-5674d2216fd4",
   "metadata": {},
   "outputs": [],
   "source": [
    "#23. Write a Python function using NumPy to create an array of 5 logarithmically spaced values between 1 and 1000 (inclusive)::\n",
    "\n",
    "def generate_log_space(start,stop,step):\n",
    "    arr = np.logspace(start,stop,step)\n",
    "    return arr\n",
    "    \n",
    "#Example\n",
    "arr_log_space = generate_log_space(0,3,5)\n",
    "print(f\"The Numpy array is :{arr_log_space}\")\n"
   ]
  },
  {
   "cell_type": "code",
   "execution_count": null,
   "id": "d44cc8a4-63df-47e5-9698-6ec7b0cabf79",
   "metadata": {},
   "outputs": [],
   "source": [
    "#24. Create a Pandas DataFrame using a NumPy array that contains 5 rows and 3 columns, where the values are random integers between 1 and 100::\n",
    "\n",
    "import pandas as pd\n",
    "  \n",
    "array = np.random.randint(1,101, size=(5,3))\n",
    "df = pd.DataFrame(array, columns=['Column_1', 'Column_2', 'Column_3'])\n",
    "print(df)\n",
    "    \n",
    "\n",
    "    \n",
    "  \n"
   ]
  },
  {
   "cell_type": "code",
   "execution_count": null,
   "id": "66fd2ffd-7e10-4d44-9c5a-15a201e46016",
   "metadata": {},
   "outputs": [],
   "source": [
    "#25. Write a function that takes a Pandas DataFrame and replaces all negative values in a specific column with zeros. Use NumPy operations within the Pandas DataFrame::\n",
    "\n",
    "def negative_values_replace(df,column):\n",
    "    df[column] = np.where(df[column]<0 , 0 , df[column])\n",
    "    return df\n",
    "\n",
    "#Example\n",
    "data = {'A' : [5,2,-9,-8,6,-7,8],\n",
    "      'B' : [-3,5,-9,6,8,-7,2]}\n",
    "df= pd.DataFrame(data)\n",
    "print(df)\n",
    "df = negative_values_replace(df,'B')\n",
    "print('After replacing negative values from the column::')\n",
    "print(df)"
   ]
  },
  {
   "cell_type": "code",
   "execution_count": null,
   "id": "d0e0d076-8df0-413c-afaa-11b546d89966",
   "metadata": {},
   "outputs": [],
   "source": [
    "#26. Access the 3rd element from the given NumPy array.\n",
    "arr = np.array([10, 20, 30, 40, 50])\n",
    "third_element = arr[2]\n",
    "print(third_element)"
   ]
  },
  {
   "cell_type": "code",
   "execution_count": null,
   "id": "f6d9b6c4-f5fb-431a-a9bf-dcc8a7c6d0e4",
   "metadata": {},
   "outputs": [],
   "source": [
    "#27. Retrieve the element at index (1, 2) from the 2D NumPy array::\n",
    "arr_2d = np.array([[1, 2, 3],\n",
    "                    [4, 5, 6],\n",
    "                   [7, 8, 9]])\n",
    "\n",
    "element = arr_2d[1, 2]\n",
    "\n",
    "print(\"The element at index (1, 2) is:\", element)\n",
    "\n"
   ]
  },
  {
   "cell_type": "code",
   "execution_count": null,
   "id": "a704ab1f-7f00-42a7-8557-abbb24cec65c",
   "metadata": {},
   "outputs": [],
   "source": [
    "#28. Using boolean indexing, extract elements greater than 5 from the given NumPy array:\n",
    "\n",
    "arr = np.array([3, 8, 2, 10, 5, 7])\n",
    "greater_than_five = arr[arr > 5]\n",
    "print(greater_than_five)"
   ]
  },
  {
   "cell_type": "code",
   "execution_count": null,
   "id": "f079c040-96d5-4c91-a0fb-857c5e0b83c4",
   "metadata": {},
   "outputs": [],
   "source": [
    "#29. Perform basic slicing to extract elements from index 2 to 5 (inclusive) from the given NumPy array::\n",
    "\n",
    "arr = np.array([1, 2, 3, 4, 5, 6, 7, 8, 9])\n",
    "sliced_array = arr[2:6]\n",
    "print(sliced_array)"
   ]
  },
  {
   "cell_type": "code",
   "execution_count": null,
   "id": "fa5461e1-30bf-4fec-9e59-072cbed0d177",
   "metadata": {},
   "outputs": [],
   "source": [
    "#30. Slice the 2D NumPy array to extract the sub-array `[[2, 3], [5, 6]]` from the given array::\n",
    "\n",
    "arr_2d = np.array([[1, 2, 3],\n",
    "                   [4, 5, 6],\n",
    "                   [7, 8, 9]])\n",
    "sub_array = arr_2d[0:2 ,1:3]\n",
    "print(sub_array)"
   ]
  },
  {
   "cell_type": "code",
   "execution_count": null,
   "id": "00d16aac-5af3-403c-8e07-c90a4f4195e5",
   "metadata": {},
   "outputs": [],
   "source": [
    "#31.Write a NumPy function to extract elements in specific order from a given 2D array based on indices provided in another array ::\n",
    "\n",
    "def extract_from_2D_array(arr,indices):\n",
    "    return np.take(arr,indices)\n",
    "\n",
    "#Example\n",
    "arr = np.array([[2,5,8],\n",
    "               [6,5,3],\n",
    "               [8,2,3]])\n",
    "indices = np.array([[0,2] , [1,3]])\n",
    "\n",
    "result =  extract_from_2D_array(arr,indices)\n",
    "print(result)"
   ]
  },
  {
   "cell_type": "code",
   "execution_count": null,
   "id": "f4e74d97-1be4-4786-b7ab-902946943892",
   "metadata": {},
   "outputs": [],
   "source": [
    "#32. Create a NumPy function that filters elements greater than a threshold from a given 1D array using boolean indexing:::\n",
    "def greater_than_threshold(arr,threshold):\n",
    "    return arr[arr > threshold]\n",
    "\n",
    "#Example\n",
    "arr = np.array([2,5,3,10,47,59,2,3])\n",
    "threshold = 7\n",
    "result = greater_than_threshold(arr,threshold)\n",
    "print(result)"
   ]
  },
  {
   "cell_type": "code",
   "execution_count": null,
   "id": "f5d8081c-79fb-4334-8088-600ae08e9cf3",
   "metadata": {},
   "outputs": [],
   "source": [
    "#33. Develop a NumPy function that extracts specific elements from a 3D array using indices provided in three separate arrays for each dimension::\n",
    "\n",
    "def extracts_from_3d_array(arr, dim_1, dim_2, dim_3):\n",
    "    first_result = np.take(arr, dim_1, axis = 0)\n",
    "    next_result = np.take(first_result, dim_2, axis = 1)\n",
    "    final_result = np.take(next_result, dim_2, axis = 2)\n",
    "    return final_result\n",
    "\n",
    "#Example\n",
    "arr = np.arange(27).reshape(3,3,3)\n",
    "dim_1 = [2,1,0]\n",
    "dim_2 = [0,1,2]\n",
    "dim_3 = [1,2,3]\n",
    "extract_elements = extracts_from_3d_array(arr, dim_1, dim_2, dim_3)\n",
    "print(extract_elements)\n",
    "    "
   ]
  },
  {
   "cell_type": "code",
   "execution_count": null,
   "id": "338d92a1-b290-430e-9342-0e89280695ac",
   "metadata": {},
   "outputs": [],
   "source": [
    "#34. Write a NumPy function that returns elements from an array where both two conditions are satisfied using boolean indexing::\n",
    "\n",
    "def boolean_indexing(arr, num_1, num_2):\n",
    "    return arr[(arr > num_1) & (arr < num_2)]\n",
    "\n",
    "#Example\n",
    "arr = np.array([2,5,7,49,6,45,18,2,33,99,84,15])\n",
    "num_1 = 10\n",
    "num_2 = 70\n",
    "final_output = boolean_indexing(arr, num_1, num_2)\n",
    "print(final_output)\n",
    "    "
   ]
  },
  {
   "cell_type": "code",
   "execution_count": null,
   "id": "be424c00-1b14-404a-9bbb-c23114024e1f",
   "metadata": {},
   "outputs": [],
   "source": [
    "#35. Create a NumPy function that extracts elements from a 2D array using row and column indices provided in separate arrays::\n",
    "def extracts_elements(arr, row_indices, column_indices):\n",
    "     row_indices = np.array(row_indices)\n",
    "     column_indices = np.array(column_indices)\n",
    "     return arr[row_indices , column_indices]\n",
    "\n",
    "#Example\n",
    "arr = np.array([[3,6,8],\n",
    "                [4,2,5],\n",
    "                [0,7,9]])\n",
    "row_indices = [2,0,1]\n",
    "column_indices = [2,1,0]\n",
    "final_output = extracts_elements(arr, row_indices, column_indices)\n",
    "print(final_output)"
   ]
  },
  {
   "cell_type": "code",
   "execution_count": null,
   "id": "5074c6f5-69cd-4dc7-80e7-d3d8c990869b",
   "metadata": {},
   "outputs": [],
   "source": [
    "#36. Given an array arr of shape (3, 3), add a scalar value of 5 to each element using NumPy broadcasting.\n",
    "\n",
    "arr = np.arange(9).reshape(3,3)\n",
    "scalar = 8\n",
    "broadcast_arr = arr + scalar\n",
    "print(broadcast_arr)"
   ]
  },
  {
   "cell_type": "code",
   "execution_count": null,
   "id": "ea50e465-fb51-4224-923a-ad9409987882",
   "metadata": {},
   "outputs": [],
   "source": [
    "#37. Consider two arrays arr1 of shape (1, 3) and arr2 of shape (3, 4). Multiply each row of arr2 by the corresponding element in arr1 using NumPy broadcasting.::\n",
    "\n",
    "arr1 = np.array([[1,2,3]])\n",
    "arr2 = np.array ([[2,5,8,6],\n",
    "                 [1,7,4,4],\n",
    "                 [9,6,3,6]])\n",
    "result = arr2 * arr1.T\n",
    "print(result)"
   ]
  },
  {
   "cell_type": "code",
   "execution_count": null,
   "id": "83b17a8f-f96e-491a-94c2-aa0de035cab4",
   "metadata": {},
   "outputs": [],
   "source": [
    "#38. Given a 1D array arr1 of shape (1, 4) and a 2D array arr2 of shape (4, 3), add arr1 to each row of arr2 using Numpy broadcasting::\n",
    "arr1 = np.array([[5,8,6,4]])\n",
    "arr2 = np.array([[4,5,6],\n",
    "                [7,9,8],\n",
    "                [3,5,7],\n",
    "                [1,5,9]])\n",
    "result = arr2 + arr1.T\n",
    "print(result)"
   ]
  },
  {
   "cell_type": "code",
   "execution_count": null,
   "id": "a9ab2df7-07f7-41fc-93c0-8565e8ae73ba",
   "metadata": {},
   "outputs": [],
   "source": [
    "#39. Consider two arrays arr1 of shape (3, 1) and arr2 of shape (1, 3). Add these arrays using NumPy broadcasting::\n",
    "\n",
    "arr1 = np.array([[5],\n",
    "                [9],\n",
    "                [7]])\n",
    "arr2 = np.array([[4,5,6]])\n",
    "result = arr1 + arr2\n",
    "print(result)"
   ]
  },
  {
   "cell_type": "code",
   "execution_count": null,
   "id": "23487e2c-c45a-4fa9-a813-24540d24e206",
   "metadata": {},
   "outputs": [],
   "source": [
    "#40. Given arrays arr1 of shape (2, 3) and arr2 of shape (2, 2), perform multiplication using NumPy broadcasting. Handle the shape incompatibility::\n",
    "\n",
    "arr1 = np.array([[4,5,6],\n",
    "               [7,5,3]])\n",
    "arr2 = np.array([[5,8],\n",
    "                [7,3]])\n",
    "arr_2 = np.hstack((arr2, arr2[:, :1]))\n",
    "print(arr_2)\n",
    "result = arr1* arr_2\n",
    "print(result)\n"
   ]
  },
  {
   "cell_type": "code",
   "execution_count": null,
   "id": "bdb27dc8-754a-407d-b0b2-64e099e36354",
   "metadata": {},
   "outputs": [],
   "source": [
    "#41. Calculate column wise mean for the given array::\n",
    "import numpy as np\n",
    "arr = np.array([[1, 2, 3], [4, 5, 6]])\n",
    "column_wise_mean = np.mean(arr, axis = 0)\n",
    "print(column_wise_mean)"
   ]
  },
  {
   "cell_type": "code",
   "execution_count": null,
   "id": "aee70e01-f52e-4bc7-b712-3a1a9faa9a20",
   "metadata": {},
   "outputs": [],
   "source": [
    "#42. Find maximum value in each row of the given array:\n",
    "\n",
    "arr = np.array([[1, 2, 3], [4, 5, 6]])\n",
    "max_num_in_row = np.max(arr, axis = 1)\n",
    "print(max_num_in_row)"
   ]
  },
  {
   "cell_type": "code",
   "execution_count": null,
   "id": "7554010a-b088-4276-8401-c96bb831a394",
   "metadata": {},
   "outputs": [],
   "source": [
    "#43. For the given array, find indices of maximum value in each column::\n",
    "\n",
    "arr = np.array([[1, 2, 3], [4, 5, 6]])\n",
    "column_indices_max_num = np.argmax(arr, axis = 0)\n",
    "print(column_indices_max_num)"
   ]
  },
  {
   "cell_type": "code",
   "execution_count": null,
   "id": "5a7cb0dd-5c3f-4790-8ea3-89460ade2a6b",
   "metadata": {},
   "outputs": [],
   "source": [
    "#44. For the given array, apply custom function to calculate moving sum along rows::\n",
    "\n",
    "arr = np.array([[1, 2, 3], [4, 5, 6]])\n",
    "moving_sum = np.cumsum(arr, axis= 1)  ##considering window size of 1.\n",
    "print(moving_sum)\n"
   ]
  },
  {
   "cell_type": "code",
   "execution_count": null,
   "id": "4c4a1343-9709-447e-91b5-ed598bcabec5",
   "metadata": {},
   "outputs": [],
   "source": [
    "#45. In the given array, check if all elements in each column are even::\n",
    "\n",
    "arr = np.array([[2, 4, 6], [3, 15, 7]])\n",
    "even_check_along_column = np.all(arr%2 == 0, axis =0)\n",
    "print(even_check_along_column)"
   ]
  },
  {
   "cell_type": "code",
   "execution_count": null,
   "id": "0abefd7e-8dcd-4b63-831d-9c2a12316706",
   "metadata": {},
   "outputs": [],
   "source": [
    "#46. Given a NumPy array arr, reshape it into a matrix of dimensions `m` rows and `n` columns. Return the reshaped matrix::\n",
    "\n",
    "original_array = np.array([1, 2, 3, 4, 5, 6])\n",
    "m = int(input('Enter the dimension of Row'))\n",
    "n = int(input('Enter the dimension of Column'))\n",
    "if original_array.size == m * n:\n",
    "    reshaping_array = original_array.reshape(m,n)\n",
    "    print(reshaping_array)\n",
    "else :\n",
    "    print('Reshaping not possible')"
   ]
  },
  {
   "cell_type": "code",
   "execution_count": null,
   "id": "7790e1f9-5992-4187-99c8-8bb05b361bf5",
   "metadata": {},
   "outputs": [],
   "source": [
    "#47. Create a function that takes a matrix as input and returns the flattened array::\n",
    "\n",
    "input_matrix = np.array([[1, 2, 3], [4, 5, 6]])\n",
    "\n",
    "def flattened_array(input_matrix):\n",
    "    return input_matrix.flatten()\n",
    "\n",
    "#Example\n",
    "input_matrix = np.array([[1, 2, 3], [4, 5, 6]])\n",
    "flattened_array = flattened_array(input_matrix)\n",
    "print(flattened_array)"
   ]
  },
  {
   "cell_type": "code",
   "execution_count": null,
   "id": "17e869ba-481d-44ce-8e1e-1ae9fb6d69ef",
   "metadata": {},
   "outputs": [],
   "source": [
    "#48. Write a function that concatenates two given arrays along a specified axis::\n",
    "\n",
    "array1 = np.array([[1, 2], [3, 4]]) ",
    "\n",
    "array2 = np.array([[5, 6], [7, 8]])"
   ]
  },
  {
   "cell_type": "code",
   "execution_count": null,
   "id": "c0644e0a-5fde-4796-a3b2-0818981cbc3e",
   "metadata": {},
   "outputs": [],
   "source": [
    "def concatenates_arrays(array1, array2, axis = 1):\n",
    "    return np.concatenate((array1, array2), axis = axis)\n",
    "\n",
    "#Example\n",
    "array1 = np.array([[1, 2], [3, 4]])\n",
    "array2 = np.array([[5, 6], [7, 8]])\n",
    "\n",
    "result = concatenates_arrays(array1, array2, axis =1)\n",
    "print(result)"
   ]
  },
  {
   "cell_type": "code",
   "execution_count": null,
   "id": "4e9f8cf4-233a-4c66-bfef-f8bb2ef244ca",
   "metadata": {},
   "outputs": [],
   "source": [
    "#49. Create a function that splits an array into multiple sub-arrays along a specified axis:::\n",
    "original_array = np.array([[1, 2, 3], [4, 5, 6], [7, 8, 9]])"
   ]
  },
  {
   "cell_type": "code",
   "execution_count": 22,
   "id": "2724a21b-543e-45a6-83a5-46d8c4a98e9f",
   "metadata": {},
   "outputs": [
    {
     "name": "stdout",
     "output_type": "stream",
     "text": [
      "[array([[1, 2, 3]]), array([[4, 5, 6]]), array([[7, 8, 9]])]\n",
      "[[1 2 3]]\n",
      "[[4 5 6]]\n",
      "[[7 8 9]]\n"
     ]
    }
   ],
   "source": [
    "def splits_array(original_array, section, axis = 0):\n",
    "    return np.array_split(original_array, section, axis = axis)\n",
    "\n",
    "#Example\n",
    "original_array = np.array([[1, 2, 3], [4, 5, 6], [7, 8, 9]])\n",
    "result = splits_array(original_array, 3, axis = 0)\n",
    "print(result)\n",
    "for arr in result:\n",
    "    print(arr)\n",
    "    \n",
    "    \n",
    "    "
   ]
  },
  {
   "cell_type": "code",
   "execution_count": 30,
   "id": "e38804a2-d256-4163-8924-7225a587c31d",
   "metadata": {},
   "outputs": [
    {
     "name": "stdout",
     "output_type": "stream",
     "text": [
      "[ 1 10  3 11  5]\n"
     ]
    }
   ],
   "source": [
    "#50. Write a function that inserts and then deletes elements from a given array at specified indices::\n",
    "\n",
    "def insert_delete_elements(original_array, indices_to_insert, values_to_insert, indices_to_delete):\n",
    "    modified_array = np.insert(original_array, indices_to_insert, values_to_insert)\n",
    "    indices_to_delete = sorted(indices_to_delete)\n",
    "    for idx in indices_to_delete :\n",
    "        modified_array = np.delete(modified_array,idx)\n",
    "        indices_to_delete = [i-1 if i > idx else i for i in indices_to_delete]\n",
    "    return modified_array\n",
    "\n",
    "#Example\n",
    "original_array = np.array([1, 2, 3, 4, 5])\n",
    "indices_to_insert = [2, 4]\n",
    "values_to_insert = [10, 11]\n",
    "indices_to_delete = [1, 3]\n",
    "result = insert_delete_elements(original_array, indices_to_insert, values_to_insert, indices_to_delete)\n",
    "print(result)\n",
    "    "
   ]
  },
  {
   "cell_type": "code",
   "execution_count": 32,
   "id": "bbeb357b-4b4e-49bb-af1a-6d9d8cd7b758",
   "metadata": {},
   "outputs": [
    {
     "name": "stdout",
     "output_type": "stream",
     "text": [
      "[1 0 2 7 5 8 4 5 5 6]\n",
      "[ 1  2  3  4  5  6  7  8  9 10]\n",
      "[ 2  2  5 11 10 14 11 13 14 16]\n"
     ]
    }
   ],
   "source": [
    "#51. Create a NumPy array `arr1` with random integers and another array `arr2` with integers from 1 to 10. Perform element-wise addition between `arr1` and `arr2`.\n",
    "\n",
    "arr1 = np.random.randint(0,10,10)\n",
    "arr2 = np.arange(1,11)\n",
    "result = arr1 + arr2\n",
    "print(arr1)\n",
    "print(arr2)\n",
    "print(result)"
   ]
  },
  {
   "cell_type": "code",
   "execution_count": 33,
   "id": "b4098bd4-4b44-43c9-9eb9-9a0f1641e40e",
   "metadata": {},
   "outputs": [
    {
     "name": "stdout",
     "output_type": "stream",
     "text": [
      "[10  9  8  7  6  5  4  3  2  1]\n",
      "[ 1  2  3  4  5  6  7  8  9 10]\n",
      "[ 9  7  5  3  1 -1 -3 -5 -7 -9]\n"
     ]
    }
   ],
   "source": [
    "#52. Generate a NumPy array `arr1` with sequential integers from 10 to 1 and another array `arr2` with integers from 1 to 10. Subtract 'arr2' from 'arr1' elementr-wise::\n",
    "\n",
    "arr1 = np.arange(10,0,-1)\n",
    "arr2 = np.arange(1,11)\n",
    "subtract = arr1 - arr2\n",
    "print(arr1)\n",
    "print(arr2)\n",
    "print(subtract)"
   ]
  },
  {
   "cell_type": "code",
   "execution_count": 34,
   "id": "d5ca812a-58b7-4cb9-96a1-6b647a511c09",
   "metadata": {},
   "outputs": [
    {
     "name": "stdout",
     "output_type": "stream",
     "text": [
      "[9 3 9 3 2]\n",
      "[1 2 3 4 5]\n",
      "[ 9  6 27 12 10]\n"
     ]
    }
   ],
   "source": [
    "#53. Create a NumPy array `arr1` with random integers and another array `arr2` with integers from 1 to 5.Perform element-wise multiplication between `arr1` and `arr2`. \n",
    "\n",
    "arr1 = np.random.randint(1,10,5)\n",
    "arr2 = np.arange(1,6)\n",
    "multiplication = arr1 * arr2\n",
    "print(arr1)\n",
    "print(arr2)\n",
    "print(multiplication)"
   ]
  },
  {
   "cell_type": "code",
   "execution_count": 40,
   "id": "e99f6dbd-a699-4ef7-ac02-aa82914e6e9a",
   "metadata": {},
   "outputs": [
    {
     "name": "stdout",
     "output_type": "stream",
     "text": [
      "arr1: [ 2  4  6  8 10]\n",
      "arr2: [1 2 3 4 5]\n",
      "Final Result: [2. 2. 2. 2. 2.]\n"
     ]
    }
   ],
   "source": [
    "#54. Generate a NumPy array `arr1` with even integers from 2 to 10 and another array `arr2` with integers from 1 to 5. Perform element-wise division of `arr1` by `arr2`::\n",
    "\n",
    "arr1 = np.arange(2,11,2)\n",
    "arr2 = np.arange(1,6)\n",
    "division = arr1 / arr2\n",
    "print('arr1:',arr1)\n",
    "print('arr2:',arr2)\n",
    "print('Final Result:',division)"
   ]
  },
  {
   "cell_type": "code",
   "execution_count": 6,
   "id": "6c68da59-635c-4cac-b298-c4d6f29703df",
   "metadata": {},
   "outputs": [
    {
     "name": "stdout",
     "output_type": "stream",
     "text": [
      "Array1 is [1 2 3 4 5]\n",
      "Array2 is [5 4 3 2 1]\n",
      "Exponentiation of arr1 is [ 1 16 27 16  5]\n"
     ]
    }
   ],
   "source": [
    "#55. Create a NumPy array `arr1` with integers from 1 to 5 and another array `arr2` with the same numbers \n",
    "#    reversed. Calculate the exponentiation of `arr1` raised to the power of `arr2` element-wise::\n",
    "\n",
    "arr1 = np.arange(1,6)\n",
    "arr2 = np.arange(5,0,-1)\n",
    "\n",
    "print('Array1 is',arr1)\n",
    "print('Array2 is',arr2)\n",
    "\n",
    "result = np.power(arr1, arr2)\n",
    "\n",
    "print('Exponentiation of arr1 is',result)"
   ]
  },
  {
   "cell_type": "code",
   "execution_count": 9,
   "id": "72684412-1288-4bcb-80d1-4cb20d02bb7c",
   "metadata": {},
   "outputs": [],
   "source": [
    "#56. Write a function that counts the occurrences of a specific substring within a NumPy array of strings::\n",
    "arr = np.array(['hello', 'world', 'hello', 'numpy', 'hello'])"
   ]
  },
  {
   "cell_type": "code",
   "execution_count": 11,
   "id": "ce0dc4a9-3a99-4b83-b4a3-d36b7a17aec4",
   "metadata": {},
   "outputs": [
    {
     "name": "stdout",
     "output_type": "stream",
     "text": [
      " The substring hello occure 3 time in the array.\n"
     ]
    }
   ],
   "source": [
    "def count_substring(arr, substring):\n",
    "    count = 0\n",
    "    for i in arr:\n",
    "        count += i.count(substring)\n",
    "    return count\n",
    "\n",
    "#Example\n",
    "arr = np.array(['hello', 'world', 'hello', 'numpy', 'hello'])\n",
    "substring = 'hello'\n",
    "result = count_substring(arr, substring)\n",
    "print(f' The substring {substring} occure {result} time in the array.')"
   ]
  },
  {
   "cell_type": "code",
   "execution_count": 12,
   "id": "3951cd5b-0c91-43a3-9604-8181b9999b2d",
   "metadata": {},
   "outputs": [],
   "source": [
    "#57. Write a function that extracts uppercase characters from a NumPy array of strings::\n",
    "arr = np.array(['Hello', 'World', 'OpenAI', 'GPT'])"
   ]
  },
  {
   "cell_type": "code",
   "execution_count": 12,
   "id": "f430efcb-eaa1-43b6-86c2-d513352e854c",
   "metadata": {},
   "outputs": [
    {
     "name": "stdout",
     "output_type": "stream",
     "text": [
      "['H', 'W', 'O', 'A', 'I', 'G', 'P', 'T']\n"
     ]
    }
   ],
   "source": [
    "def extracts_uppercase(arr):\n",
    "    uppercase_char = []\n",
    "    for i in arr:\n",
    "        for char in i:\n",
    "            if char.isupper():\n",
    "                uppercase_char.append(char)\n",
    "    return uppercase_char\n",
    "\n",
    "#Example\n",
    "arr = np.array(['Hello', 'World', 'OpenAI', 'GPT'])\n",
    "uppercase_array = extracts_uppercase(arr)\n",
    "print(uppercase_array)"
   ]
  },
  {
   "cell_type": "code",
   "execution_count": 13,
   "id": "05e7c59a-e262-4659-97cf-4a04c6874ca8",
   "metadata": {},
   "outputs": [],
   "source": [
    "#58. Write a function that replaces occurrences of a substring in a NumPy array of strings with a new string::\n",
    "arr = np.array(['apple', 'banana', 'grape', 'pineapple'])"
   ]
  },
  {
   "cell_type": "code",
   "execution_count": 22,
   "id": "d5e64da7-c35d-41c8-a494-9ebc75a68266",
   "metadata": {},
   "outputs": [
    {
     "name": "stdout",
     "output_type": "stream",
     "text": [
      "['apple' 'banana' 'lichhi' 'pineapple']\n"
     ]
    }
   ],
   "source": [
    "def replace_string(arr,old_substring,new_substring):\n",
    "    return np.char.replace(arr, old_substring, new_substring)\n",
    "\n",
    "#Example\n",
    "\n",
    "arr = np.array(['apple', 'banana', 'grape', 'pineapple'])\n",
    "\n",
    "old_substring = 'grape'\n",
    "new_substring = 'lichhi'\n",
    "replace_array = replace_string(arr, old_substring, new_substring)\n",
    "\n",
    "print(replace_array)"
   ]
  },
  {
   "cell_type": "code",
   "execution_count": 26,
   "id": "e4ba20f7-7c73-4f46-8f15-9616ecd6d9b1",
   "metadata": {},
   "outputs": [],
   "source": [
    "#59. Write a function that concatenates strings in a NumPy array element-wise::\n",
    "arr1 = np.array(['Hello', 'World'])\n",
    "arr2 = np.array(['Open', 'AI'])"
   ]
  },
  {
   "cell_type": "code",
   "execution_count": 33,
   "id": "e0dd0efb-fd82-414c-b455-ec52a080aedd",
   "metadata": {},
   "outputs": [
    {
     "name": "stdout",
     "output_type": "stream",
     "text": [
      "['Hello' 'World' 'Open' 'AI']\n"
     ]
    }
   ],
   "source": [
    "def concatenate_array(arr1, arr2):\n",
    "    return np.concatenate((arr1, arr2))\n",
    "\n",
    "#Example\n",
    "\n",
    "arr1 = np.array(['Hello', 'World'])\n",
    "arr2 = np.array(['Open', 'AI'])\n",
    "\n",
    "result = concatenate_array(arr1, arr2)\n",
    "\n",
    "print(result)"
   ]
  },
  {
   "cell_type": "code",
   "execution_count": 34,
   "id": "f92b383e-1e46-4b16-b6de-c220ee1834b2",
   "metadata": {},
   "outputs": [],
   "source": [
    "#60. Write a function that finds the length of the longest string in a NumPy array::\n",
    "arr = np.array(['apple', 'banana', 'grape', 'pineapple'])"
   ]
  },
  {
   "cell_type": "code",
   "execution_count": 36,
   "id": "c57b4942-6f01-4c0b-8135-6ec67a910046",
   "metadata": {},
   "outputs": [
    {
     "name": "stdout",
     "output_type": "stream",
     "text": [
      "9\n"
     ]
    }
   ],
   "source": [
    "def longest_string(arr):\n",
    "    lengths = np.char.str_len(arr)\n",
    "    max_length = np.max(lengths)\n",
    "    return max_length\n",
    "\n",
    "#Example\n",
    "\n",
    "arr = np.array(['apple', 'banana', 'grape', 'pineapple'])\n",
    "\n",
    "result = longest_string(arr)\n",
    "\n",
    "print (result)        "
   ]
  },
  {
   "cell_type": "code",
   "execution_count": 37,
   "id": "94b6595d-3f31-421c-8440-5e0f800043ec",
   "metadata": {},
   "outputs": [],
   "source": [
    "#61. Create a dataset of 100 random integers between 1 and 1000. Compute the mean, median, variance, and standard deviation of the dataset using NumPy's function::\n"
   ]
  },
  {
   "cell_type": "code",
   "execution_count": 54,
   "id": "7fd22d49-90cd-44fa-a08d-3d7819e6e789",
   "metadata": {},
   "outputs": [
    {
     "name": "stdout",
     "output_type": "stream",
     "text": [
      "The Mean of the Array is: 521.95\n",
      "The Median of the Array is: 528.5\n",
      "The Variance of the Array is: 83915.4675\n",
      "The Standard Daviation of the Array is: 289.6816657988558\n"
     ]
    }
   ],
   "source": [
    "arr = np.random.randint(1,1001,100)\n",
    "\n",
    "mean = np.mean(arr)\n",
    "median = np.median(arr)\n",
    "variance =np.var(arr)\n",
    "standard_daviation = np.std(arr)\n",
    "\n",
    "print('The Mean of the Array is:',mean)\n",
    "print('The Median of the Array is:',median)\n",
    "print('The Variance of the Array is:',variance)\n",
    "print('The Standard Daviation of the Array is:',standard_daviation)"
   ]
  },
  {
   "cell_type": "code",
   "execution_count": 55,
   "id": "4109e966-32a1-43ec-97eb-479b190ef798",
   "metadata": {},
   "outputs": [
    {
     "name": "stdout",
     "output_type": "stream",
     "text": [
      "The random Array is : [65 55 52 65 83 78 49 10 52  7 96 21 38 82 40 99 41 68 74 13 87 13 77 99\n",
      " 93 51 24 26 82 16 20 12 44 40 35 21 62 77 58 92 57 75 77 67  3 13 19 58\n",
      " 98 96]\n",
      "The 25th percentile is : 3.49\n",
      "The 75th percentile is : 4.47\n"
     ]
    }
   ],
   "source": [
    "#62. Generate an array of 50 random numbers between 1 and 100. Find the 25th and 75th percentiles of the dataset::\n",
    "\n",
    "arr = np.random.randint(1,101,50)\n",
    "\n",
    "percentile_25th = np.percentile(arr,0.25)\n",
    "percentile_75th = np.percentile(arr,0.75)\n",
    "\n",
    "print('The random Array is :',arr)\n",
    "print('The 25th percentile is :',percentile_25th)\n",
    "print('The 75th percentile is :',percentile_75th)"
   ]
  },
  {
   "cell_type": "code",
   "execution_count": 64,
   "id": "e8c23b58-7cf5-4312-bc77-0b73d9fb1654",
   "metadata": {},
   "outputs": [
    {
     "name": "stdout",
     "output_type": "stream",
     "text": [
      "Array 1: [13 26 39 52 65]\n",
      "Array 2: [5 2 5 9 5]\n",
      "The matrix is: [[1.         0.44450044]\n",
      " [0.44450044 1.        ]]\n",
      "Correlation coefficient: 0.44450044450066667\n"
     ]
    }
   ],
   "source": [
    "#63. Create two arrays representing two sets of variables. Compute the correlation coefficient between these arrays using NumPy's `corrcoef` function::\n",
    "\n",
    "\n",
    "arr1 = np.array([13,26,39,52,65])\n",
    "arr2 = np.array([5, 2, 5, 9, 5])\n",
    "\n",
    "correlation_matrix = np.corrcoef(arr1, arr2)\n",
    "\n",
    "correlation_coefficient = correlation_matrix[0, 1]\n",
    "\n",
    "print(\"Array 1:\", arr1)\n",
    "print(\"Array 2:\", arr2)\n",
    "print('The matrix is:',correlation_matrix)\n",
    "print(\"Correlation coefficient:\", correlation_coefficient)"
   ]
  },
  {
   "cell_type": "code",
   "execution_count": 8,
   "id": "be34cd28-92d8-4ec8-957a-2fc4b2c01e92",
   "metadata": {},
   "outputs": [
    {
     "name": "stdout",
     "output_type": "stream",
     "text": [
      "[[100 116  90]\n",
      " [132 145 113]\n",
      " [ 78  86  67]]\n"
     ]
    }
   ],
   "source": [
    "#64. Create two matrices and perform matrix multiplication using NumPy's `dot` function::\n",
    "\n",
    "arr1 = np.array([[4,8,6],\n",
    "                [8,9,6],\n",
    "                [8,2,7]])\n",
    "arr2 = np.array([[6,5,4],\n",
    "                [8,9,7],\n",
    "                [2,4,3]])\n",
    "\n",
    "result = np.dot(arr1,arr2)\n",
    "\n",
    "print(result)"
   ]
  },
  {
   "cell_type": "code",
   "execution_count": 10,
   "id": "3990e44b-358b-41f2-b7e4-e71afeb23a3e",
   "metadata": {},
   "outputs": [
    {
     "name": "stdout",
     "output_type": "stream",
     "text": [
      "Array: [589 835 971 147 118 539 970 982 445 552  48 432 212 544 911 532 641 477\n",
      " 620  45 885 572 422  33 781 470 806 461 728 971 746  71 615 669 249 278\n",
      " 712 612 656 264 956 342 551 226 524 703 772 955 246 578]\n",
      "10th percentile: 144.10000000000002\n",
      "50th percentile (median): 562.0\n",
      "90th percentile: 955.1\n",
      "First quartile (25th percentile): 362.0\n",
      "Third quartile (75th percentile): 741.5\n"
     ]
    }
   ],
   "source": [
    "#65. Create an array of 50 integers between 10 and 1000. Calculate the 10th, 50th (median), and 90th percentiles along with the first and third quartiles::\n",
    "\n",
    "\n",
    "arr = np.random.randint(10, 1001, 50)\n",
    "\n",
    "\n",
    "percentile_10th = np.percentile(arr, 10)\n",
    "percentile_50th = np.percentile(arr, 50)  \n",
    "percentile_90th = np.percentile(arr, 90)\n",
    "\n",
    "\n",
    "first_quartile = np.percentile(arr, 25)\n",
    "third_quartile = np.percentile(arr, 75)\n",
    "\n",
    "\n",
    "print(f\"Array: {arr}\")\n",
    "print(f\"10th percentile: {percentile_10th}\")\n",
    "print(f\"50th percentile (median): {percentile_50th}\")\n",
    "print(f\"90th percentile: {percentile_90th}\")\n",
    "print(f\"First quartile (25th percentile): {first_quartile}\")\n",
    "print(f\"Third quartile (75th percentile): {third_quartile}\")\n"
   ]
  },
  {
   "cell_type": "code",
   "execution_count": 12,
   "id": "3d073374-76a0-4a2f-bd04-1fa868bca7a2",
   "metadata": {},
   "outputs": [
    {
     "name": "stdin",
     "output_type": "stream",
     "text": [
      "enter the element 1 to 9 : 9\n"
     ]
    },
    {
     "name": "stdout",
     "output_type": "stream",
     "text": [
      "Array: [1 2 5 8 7 4 6 3 9]\n",
      "Element to find: 9\n",
      "Index of the element: [8]\n"
     ]
    }
   ],
   "source": [
    "#66. Create a NumPy array of integers and find the index of a specific element.\n",
    "\n",
    "arr = np.array([1,2,5,8,7,4,6,3,9])\n",
    "\n",
    "element = int(input('enter the element 1 to 9 :'))\n",
    "\n",
    "element_index = np.where(arr == element)[0]\n",
    "\n",
    "print(f\"Array: {arr}\")\n",
    "print(f\"Element to find: {element}\")\n",
    "print(f\"Index of the element: {element_index}\")"
   ]
  },
  {
   "cell_type": "code",
   "execution_count": 15,
   "id": "f07497f1-7ae4-4fdd-9312-8d2f05d1e44b",
   "metadata": {},
   "outputs": [
    {
     "name": "stdout",
     "output_type": "stream",
     "text": [
      "The Original Array: [47 54 80 33 84 31 77 10 97 30  5 93 80 31 74]\n",
      "The Sorting Array: [ 5 10 30 31 31 33 47 54 74 77 80 80 84 93 97]\n"
     ]
    }
   ],
   "source": [
    "#67. Generate a random NumPy array and sort it in ascending order::\n",
    "\n",
    "arr = np.random.randint(1,101,15)\n",
    "\n",
    "sorting_array = np.sort(arr)\n",
    "\n",
    "print('The Original Array:',arr)\n",
    "print('The Sorting Array:',sorting_array)"
   ]
  },
  {
   "cell_type": "code",
   "execution_count": 16,
   "id": "2afe4c25-f9ab-46ae-b063-d1087181bc86",
   "metadata": {},
   "outputs": [],
   "source": [
    "#68. Filter elements >20  in the given NumPy array::\n",
    "arr = np.array([12, 25, 6, 42, 8, 30])"
   ]
  },
  {
   "cell_type": "code",
   "execution_count": 19,
   "id": "e9bb020f-9d48-476c-b3fb-d664d4045b56",
   "metadata": {},
   "outputs": [
    {
     "name": "stdout",
     "output_type": "stream",
     "text": [
      "Original Array: [12 25  6 42  8 30]\n",
      "Filtered Array : [25 42 30]\n"
     ]
    }
   ],
   "source": [
    "arr = np.array([12, 25, 6, 42, 8, 30])\n",
    "\n",
    "filtered_array = arr[arr > 20]\n",
    "\n",
    "print('Original Array:',arr)\n",
    "print('Filtered Array :',filtered_array)"
   ]
  },
  {
   "cell_type": "code",
   "execution_count": 20,
   "id": "6ba656eb-6ea7-4537-a076-c0b4134f1087",
   "metadata": {},
   "outputs": [],
   "source": [
    "#69. Filter elements which are divisible by 3 from a given NumPy array::\n",
    "arr = np.array([1, 5, 8, 12, 15])"
   ]
  },
  {
   "cell_type": "code",
   "execution_count": 22,
   "id": "1d69e44f-712b-4737-a3fa-02a86dfd2700",
   "metadata": {},
   "outputs": [
    {
     "name": "stdout",
     "output_type": "stream",
     "text": [
      "Original Array: [ 1  5  8 12 15]\n",
      "Filtered Array : [12 15]\n"
     ]
    }
   ],
   "source": [
    "arr = np.array([1, 5, 8, 12, 15])\n",
    "\n",
    "filtered_array = arr[arr % 3 == 0]\n",
    "\n",
    "print('Original Array:',arr)\n",
    "print('Filtered Array :',filtered_array)"
   ]
  },
  {
   "cell_type": "code",
   "execution_count": 23,
   "id": "39b9c336-2d86-4d01-b937-e1e8a6ca9d5e",
   "metadata": {},
   "outputs": [],
   "source": [
    "#70. Filter elements which are ≥ 20 and ≤ 40 from a given NumPy array::\n",
    "arr = np.array([10, 20, 30, 40, 50])"
   ]
  },
  {
   "cell_type": "code",
   "execution_count": 25,
   "id": "ad8e12ea-1312-455a-8dfd-5e3e519cfbc8",
   "metadata": {},
   "outputs": [
    {
     "name": "stdout",
     "output_type": "stream",
     "text": [
      "Original Array: [10 20 30 40 50]\n",
      "Filtered Array : [20 30 40]\n"
     ]
    }
   ],
   "source": [
    "arr = np.array([10, 20, 30, 40, 50])\n",
    "\n",
    "filtered_array = arr[(arr >= 20) & (arr <= 40)]\n",
    "\n",
    "print('Original Array:',arr)\n",
    "print('Filtered Array :',filtered_array)"
   ]
  },
  {
   "cell_type": "code",
   "execution_count": 26,
   "id": "8a6aedb2-9b7c-4984-85a8-779a9fef1a46",
   "metadata": {},
   "outputs": [],
   "source": [
    "#71. For the given NumPy array, check its byte order using the `dtype` attribute byteorder::\n",
    "arr = np.array([1, 2, 3])"
   ]
  },
  {
   "cell_type": "code",
   "execution_count": 34,
   "id": "e66a1104-6f3d-4b65-aff6-b35d471b6f66",
   "metadata": {},
   "outputs": [
    {
     "name": "stdout",
     "output_type": "stream",
     "text": [
      "Original Array : [1 2 3]\n",
      "Byte Order : =\n"
     ]
    }
   ],
   "source": [
    "arr = np.array([1, 2, 3])\n",
    "\n",
    "byte_order = arr.dtype.byteorder\n",
    "\n",
    "print('Original Array :',arr)\n",
    "print('Byte Order :',byte_order)"
   ]
  },
  {
   "cell_type": "code",
   "execution_count": 7,
   "id": "666fec79-95e5-4fa6-b8f9-2ef75f6b25eb",
   "metadata": {},
   "outputs": [],
   "source": [
    "#72. For the given NumPy array, perform byte swapping in place using `byteswap()`::\n",
    "arr = np.array([1, 2, 3], dtype=np.int32)"
   ]
  },
  {
   "cell_type": "code",
   "execution_count": 8,
   "id": "f5538fe8-bd70-41e9-94ed-7d9e80269d4b",
   "metadata": {},
   "outputs": [
    {
     "name": "stdout",
     "output_type": "stream",
     "text": [
      "[16777216 33554432 50331648]\n"
     ]
    }
   ],
   "source": [
    "arr = np.array([1, 2, 3], dtype=np.int32)\n",
    "\n",
    "arr.byteswap('True')\n",
    "\n",
    "print(arr)"
   ]
  },
  {
   "cell_type": "code",
   "execution_count": 10,
   "id": "7a4f9663-ce14-4bfc-adea-0335c6aef194",
   "metadata": {},
   "outputs": [],
   "source": [
    "#73. For the given NumPy array, swap its byte order without modifying the original array using `newbyteorder()`::\n",
    "arr = np.array([1, 2, 3], dtype=np.int32)"
   ]
  },
  {
   "cell_type": "code",
   "execution_count": 14,
   "id": "0c2fe500-3575-4e7e-a919-47b807c15ece",
   "metadata": {},
   "outputs": [
    {
     "name": "stdout",
     "output_type": "stream",
     "text": [
      "Original Array : [1 2 3]\n",
      "Swaped Array : [16777216 33554432 50331648]\n"
     ]
    }
   ],
   "source": [
    "arr = np.array([1, 2, 3], dtype=np.int32)\n",
    "\n",
    "swaped_array =  arr.newbyteorder()\n",
    "\n",
    "print('Original Array :',arr)\n",
    "print('Swaped Array :',swaped_array)"
   ]
  },
  {
   "cell_type": "code",
   "execution_count": 15,
   "id": "3d391dcb-71b5-4e96-96f6-c47599649556",
   "metadata": {},
   "outputs": [],
   "source": [
    "#74. For the given NumPy array and swap its byte order conditionally based on system endianness using `newbyteorder()`::\n",
    "arr = np.array([1, 2, 3], dtype=np.int32)"
   ]
  },
  {
   "cell_type": "code",
   "execution_count": 16,
   "id": "0d2404f6-092e-4cfa-87e5-f54d389f44c3",
   "metadata": {},
   "outputs": [],
   "source": [
    "#75. For the given NumPy array, check if byte swapping is necessary for the current system using `dtype` attribute `byteorder`::\n",
    "arr = np.array([1, 2, 3], dtype=np.int32)"
   ]
  },
  {
   "cell_type": "code",
   "execution_count": 17,
   "id": "0b3f58c4-c827-4721-b294-f36e5d86ff71",
   "metadata": {},
   "outputs": [
    {
     "name": "stdout",
     "output_type": "stream",
     "text": [
      "Byte swapping is not necessary.\n",
      "Array byte order: =\n",
      "Native system byte order: <\n"
     ]
    }
   ],
   "source": [
    "arr = np.array([1, 2, 3], dtype=np.int32)\n",
    "\n",
    "array_byteorder = arr.dtype.byteorder\n",
    "\n",
    "native_byteorder = '<' if np.dtype(np.int32).newbyteorder('N').byteorder == '=' else '>'\n",
    "\n",
    "if array_byteorder in ('=', native_byteorder):\n",
    "    print(\"Byte swapping is not necessary.\")\n",
    "else:\n",
    "    print(\"Byte swapping is necessary.\")\n",
    "\n",
    "print(\"Array byte order:\", array_byteorder)\n",
    "print(\"Native system byte order:\", native_byteorder)\n"
   ]
  },
  {
   "cell_type": "code",
   "execution_count": 18,
   "id": "6f12b32f-07c4-4301-999b-d133fd44a552",
   "metadata": {},
   "outputs": [],
   "source": [
    "#76. Create a NumPy array `arr1` with values from 1 to 10. Create a copy of `arr1` named `copy_arr` and modify an element in `copy_arr`. Check if modifying `copy_arr` affects `arr1`::"
   ]
  },
  {
   "cell_type": "code",
   "execution_count": 22,
   "id": "8f5a16c5-145b-4945-ba08-3e1f0f4bb6af",
   "metadata": {},
   "outputs": [
    {
     "name": "stdout",
     "output_type": "stream",
     "text": [
      "Original Array : [ 1  2  3  4  5  6  7  8  9 10]\n",
      "Copy Array : [ 1  2 75  4  5  6  7  8  9 10]\n"
     ]
    }
   ],
   "source": [
    "arr1 = np.arange(1,11)\n",
    "\n",
    "copy_arr1 = arr1.copy()\n",
    "\n",
    "copy_arr1[2] = 75\n",
    "\n",
    "print('Original Array :',arr1)\n",
    "print('Copy Array :',copy_arr1)\n"
   ]
  },
  {
   "cell_type": "code",
   "execution_count": 23,
   "id": "c0b43c4f-e3fb-44b4-a2ae-cbe69411984e",
   "metadata": {},
   "outputs": [],
   "source": [
    "#77. Create a 2D NumPy array `matrix` of shape (3, 3) with random integers. Extract a slice `view_slice` from \n",
    "# the matrix. Modify an element in `view_slice` and observe if it changes the original `matrix`."
   ]
  },
  {
   "cell_type": "code",
   "execution_count": 34,
   "id": "28aa0846-e0c7-43b0-95e7-9b228ddb8aaa",
   "metadata": {},
   "outputs": [
    {
     "name": "stdout",
     "output_type": "stream",
     "text": [
      "Original matrix after modification:\n",
      "[[712  85  28]\n",
      " [ 61  29  98]\n",
      " [ 43  58  91]]\n",
      "View slice after modification:\n",
      "[[712  85]\n",
      " [ 61  29]\n",
      " [ 43  58]]\n"
     ]
    }
   ],
   "source": [
    "matrix = np.random.randint(1, 100, size=(3, 3))\n",
    "\n",
    "view_slice = matrix[:3, :2] \n",
    "\n",
    "view_slice[0, 0] = 712\n",
    "\n",
    "print(\"Original matrix after modification:\")\n",
    "print(matrix)\n",
    "\n",
    "print(\"View slice after modification:\")\n",
    "print(view_slice)\n"
   ]
  },
  {
   "cell_type": "code",
   "execution_count": 8,
   "id": "7b44116f-2f66-4a6a-9c19-0b479d691217",
   "metadata": {},
   "outputs": [],
   "source": [
    "#78. Create a NumPy array `array_a` of shape (4, 3) with sequential integers from 1 to 12. Extract a slice \n",
    "# `view_b` from `array_a` and broadcast the addition of 5 to view_b. Check if it alters the original `array_a`::"
   ]
  },
  {
   "cell_type": "code",
   "execution_count": 10,
   "id": "3cb53afd-e9d5-4332-b092-86c1649729c2",
   "metadata": {},
   "outputs": [
    {
     "name": "stdout",
     "output_type": "stream",
     "text": [
      "The Original Array:\n",
      "[[ 1  2  3]\n",
      " [ 4  5  6]\n",
      " [ 7  8  9]\n",
      " [10 11 12]]\n",
      "The Slice Array:\n",
      "[[ 2]\n",
      " [ 5]\n",
      " [ 8]\n",
      " [11]]\n",
      "The Broadcast Array is :\n",
      "[[ 7]\n",
      " [10]\n",
      " [13]\n",
      " [16]]\n",
      "After altering view_b:\n",
      "[[ 1  7  3]\n",
      " [ 4 10  6]\n",
      " [ 7 13  9]\n",
      " [10 16 12]]\n"
     ]
    }
   ],
   "source": [
    "array_a = np.arange(1,13).reshape(4,3)\n",
    "print('The Original Array:')\n",
    "print(array_a)\n",
    "\n",
    "view_b = array_a[ : ,1:2]\n",
    "print('The Slice Array:')\n",
    "print(view_b)\n",
    "\n",
    "view_b += 5\n",
    "print('The Broadcast Array is :')\n",
    "print(view_b)\n",
    "\n",
    "print('After altering view_b:')\n",
    "print(array_a)"
   ]
  },
  {
   "cell_type": "code",
   "execution_count": 11,
   "id": "d835f2ae-a38e-4401-b2d2-72ff1c78a7f3",
   "metadata": {},
   "outputs": [],
   "source": [
    "#79. Create a NumPy array `orig_array` of shape (2, 4) with values from 1 to 8. Create a reshaped view \n",
    "#`reshaped_view` of shape (4, 2) from orig_array. Modify an element in `reshaped_view` and check if it \n",
    "#reflects changes in the original `orig_array`::"
   ]
  },
  {
   "cell_type": "code",
   "execution_count": 14,
   "id": "c0edf178-eb74-487d-ad8f-d64827f475d9",
   "metadata": {},
   "outputs": [
    {
     "name": "stdout",
     "output_type": "stream",
     "text": [
      "Original orig_array:\n",
      "[[1 2 3 4]\n",
      " [5 6 7 8]]\n",
      "reshaped_view (before modification ) :\n",
      "[[1 2]\n",
      " [3 4]\n",
      " [5 6]\n",
      " [7 8]]\n",
      "reshaped_view (after modification):\n",
      "[[ 1  2]\n",
      " [ 3  4]\n",
      " [ 5 43]\n",
      " [ 7  8]]\n",
      "orig_array after modifying reshaped_view:\n",
      "[[ 1  2  3  4]\n",
      " [ 5 43  7  8]]\n"
     ]
    }
   ],
   "source": [
    "orig_array = np.arange(1,9).reshape(2,4)\n",
    "print(\"Original orig_array:\")\n",
    "print(orig_array)\n",
    "\n",
    "reshaped_view = orig_array.reshape(4,2)\n",
    "print(\"reshaped_view (before modification ) :\")\n",
    "print(reshaped_view)\n",
    "\n",
    "reshaped_view[2,1] = 43\n",
    "print(\"reshaped_view (after modification):\")\n",
    "print(reshaped_view)\n",
    "\n",
    "print(\"orig_array after modifying reshaped_view:\")\n",
    "print(orig_array)"
   ]
  },
  {
   "cell_type": "code",
   "execution_count": 15,
   "id": "debe33ca-107b-4ad4-aaab-158b4f08bfde",
   "metadata": {},
   "outputs": [],
   "source": [
    "#80. Create a NumPy array `data` of shape (3, 4) with random integers. Extract a copy `data_copy` of \n",
    "# elements greater than 5. Modify an element in `data_copy` and verify if it affects the original `data`::"
   ]
  },
  {
   "cell_type": "code",
   "execution_count": 27,
   "id": "4f0c628e-c266-43a9-862c-2e089967012e",
   "metadata": {},
   "outputs": [
    {
     "name": "stdout",
     "output_type": "stream",
     "text": [
      "Original data:\n",
      "[[ 2  7  7 10]\n",
      " [ 1  7  5  8]\n",
      " [ 5  8  2  2]]\n",
      "data_copy (before modification):\n",
      "[ 7  7 10  7  8  8]\n",
      "data_copy (after modification):\n",
      "[ 7  7 27  7  8  8]\n",
      "data after modifying data_copy:\n",
      "[[ 2  7  7 10]\n",
      " [ 1  7  5  8]\n",
      " [ 5  8  2  2]]\n"
     ]
    }
   ],
   "source": [
    "np.random.seed(17)\n",
    "data = np.random.randint(1,11, size = (3,4))\n",
    "print(\"Original data:\")\n",
    "print(data)\n",
    "\n",
    "data_copy = data[data > 5].copy()\n",
    "print(\"data_copy (before modification):\")\n",
    "print(data_copy)\n",
    "\n",
    "if data_copy.size > 2:\n",
    "    data_copy[2] = 27\n",
    "print(\"data_copy (after modification):\")\n",
    "print(data_copy)\n",
    "\n",
    "print(\"data after modifying data_copy:\")\n",
    "print(data)"
   ]
  },
  {
   "cell_type": "code",
   "execution_count": 28,
   "id": "6a00a964-f54d-41ab-8536-0aba52d61300",
   "metadata": {},
   "outputs": [],
   "source": [
    "#81. Create two matrices A and B of identical shape containing integers and perform addition and subtraction operations between them::"
   ]
  },
  {
   "cell_type": "code",
   "execution_count": 33,
   "id": "df74f83a-4b2e-4a39-8760-34a3ccdcfc19",
   "metadata": {},
   "outputs": [
    {
     "name": "stdout",
     "output_type": "stream",
     "text": [
      "A matrix :\n",
      " [[4 5 6]\n",
      " [7 8 9]\n",
      " [1 5 9]]\n",
      "B matrix :\n",
      " [[1 2 3]\n",
      " [4 2 6]\n",
      " [3 5 7]]\n",
      "Addition of two matrix :\n",
      " [[ 5  7  9]\n",
      " [11 10 15]\n",
      " [ 4 10 16]]\n",
      "Subtraction of two matrix :\n",
      " [[ 3  3  3]\n",
      " [ 3  6  3]\n",
      " [-2  0  2]]\n"
     ]
    }
   ],
   "source": [
    "A = np.array([[4,5,6],\n",
    "             [7,8,9],\n",
    "             [1,5,9]])\n",
    "B = np.array([[1,2,3],\n",
    "             [4,2,6],\n",
    "             [3,5,7]])\n",
    "print('A matrix :\\n',A)\n",
    "print('B matrix :\\n',B)\n",
    "\n",
    "add = A + B\n",
    "sub = A - B\n",
    "print('Addition of two matrix :\\n',add)\n",
    "print('Subtraction of two matrix :\\n',sub)"
   ]
  },
  {
   "cell_type": "code",
   "execution_count": 34,
   "id": "1b227365-5f36-4091-acc6-d4d3956271a0",
   "metadata": {},
   "outputs": [],
   "source": [
    "#82. Generate two matrices `C` (3x2) and `D` (2x4) and perform matrix multiplication::"
   ]
  },
  {
   "cell_type": "code",
   "execution_count": 35,
   "id": "2f90d4cd-2911-46bf-9619-79cf68cbb49f",
   "metadata": {},
   "outputs": [
    {
     "name": "stdout",
     "output_type": "stream",
     "text": [
      "C matrix (3*2) :\n",
      " [[5 6]\n",
      " [8 9]\n",
      " [7 3]]\n",
      "D matrix (2*4) :\n",
      " [[7 5 1 6]\n",
      " [9 2 3 4]]\n",
      "Multiplication of C and D :\n",
      " [[ 89  37  23  54]\n",
      " [137  58  35  84]\n",
      " [ 76  41  16  54]]\n"
     ]
    }
   ],
   "source": [
    "C = np.array([[5,6],\n",
    "             [8,9],\n",
    "             [7,3]])\n",
    "D = np.array([[7,5,1,6],\n",
    "             [9,2,3,4]])\n",
    "\n",
    "print('C matrix (3*2) :\\n',C)\n",
    "print('D matrix (2*4) :\\n',D)\n",
    "\n",
    "mul = np.dot(C,D)\n",
    "\n",
    "print('Multiplication of C and D :\\n',mul)"
   ]
  },
  {
   "cell_type": "code",
   "execution_count": 36,
   "id": "839238f0-a6c1-4393-ab08-d383b6d2ed6e",
   "metadata": {},
   "outputs": [],
   "source": [
    "#83. Create a matrix `E` and find its transpose::"
   ]
  },
  {
   "cell_type": "code",
   "execution_count": 37,
   "id": "3e15b2a0-7004-41ac-8471-c32b3a45fd95",
   "metadata": {},
   "outputs": [
    {
     "name": "stdout",
     "output_type": "stream",
     "text": [
      "Matrix E :\n",
      " [[1 5 9]\n",
      " [7 5 3]\n",
      " [6 8 2]]\n",
      "Transpose of matrix of E is :\n",
      " [[1 7 6]\n",
      " [5 5 8]\n",
      " [9 3 2]]\n"
     ]
    }
   ],
   "source": [
    "E = np.array([[1,5,9],\n",
    "             [7,5,3],\n",
    "             [6,8,2]])\n",
    "print('Matrix E :\\n',E)\n",
    "\n",
    "E_transpose = E.T\n",
    "\n",
    "print('Transpose of matrix of E is :\\n',E_transpose)"
   ]
  },
  {
   "cell_type": "code",
   "execution_count": 38,
   "id": "213e7038-e06b-4426-9a0f-6171e77be912",
   "metadata": {},
   "outputs": [],
   "source": [
    "#84. Generate a square matrix `F` and compute its determinant ::"
   ]
  },
  {
   "cell_type": "code",
   "execution_count": 42,
   "id": "6b4386b0-2a8d-4349-9194-f8fba4e06fcf",
   "metadata": {},
   "outputs": [
    {
     "name": "stdout",
     "output_type": "stream",
     "text": [
      "Matrix F :\n",
      " [[4 8 2]\n",
      " [6 3 7]\n",
      " [5 7 1]]\n",
      "Determinant of matrix F:\n",
      " 102.00000000000004\n"
     ]
    }
   ],
   "source": [
    "F = np.array([[4,8,2],\n",
    "              [6,3,7],\n",
    "              [5,7,1]])\n",
    "\n",
    "print('Matrix F :\\n',F)\n",
    "\n",
    "det_F = np.linalg.det(F)\n",
    "\n",
    "print('Determinant of matrix F:\\n',det_F)"
   ]
  },
  {
   "cell_type": "code",
   "execution_count": 43,
   "id": "5c5a19b9-13bd-4979-855b-ae93e82615cb",
   "metadata": {},
   "outputs": [],
   "source": [
    "#85. Create a square matrix `G` and find its inverse::"
   ]
  },
  {
   "cell_type": "code",
   "execution_count": 44,
   "id": "afa696fd-ae47-4baa-ab86-c59636542e9c",
   "metadata": {},
   "outputs": [
    {
     "name": "stdout",
     "output_type": "stream",
     "text": [
      "Matrix G:\n",
      " [[8 2]\n",
      " [9 1]]\n",
      "Inverse of matrix G:\n",
      " [[-0.1  0.2]\n",
      " [ 0.9 -0.8]]\n"
     ]
    }
   ],
   "source": [
    "G = np.array([[8,2],\n",
    "              [9,1]])\n",
    "\n",
    "print('Matrix G:\\n',G)\n",
    "\n",
    "G_inverse = np.linalg.inv(G)\n",
    "print('Inverse of matrix G:\\n',G_inverse)"
   ]
  },
  {
   "cell_type": "code",
   "execution_count": null,
   "id": "8634a375-8cb0-41bc-b172-71811371cbe4",
   "metadata": {},
   "outputs": [],
   "source": []
  }
 ],
 "metadata": {
  "kernelspec": {
   "display_name": "Python 3 (ipykernel)",
   "language": "python",
   "name": "python3"
  },
  "language_info": {
   "codemirror_mode": {
    "name": "ipython",
    "version": 3
   },
   "file_extension": ".py",
   "mimetype": "text/x-python",
   "name": "python",
   "nbconvert_exporter": "python",
   "pygments_lexer": "ipython3",
   "version": "3.11.7"
  }
 },
 "nbformat": 4,
 "nbformat_minor": 5
}
